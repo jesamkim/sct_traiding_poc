{
 "cells": [
  {
   "cell_type": "markdown",
   "id": "b330bd39",
   "metadata": {},
   "source": [
    "## 1. 라이브러리 설치"
   ]
  },
  {
   "cell_type": "code",
   "execution_count": 1,
   "id": "88cda047",
   "metadata": {},
   "outputs": [
    {
     "name": "stdout",
     "output_type": "stream",
     "text": [
      "Requirement already satisfied: pdfplumber in /opt/conda/lib/python3.10/site-packages (0.11.2)\n",
      "Requirement already satisfied: pdfminer.six==20231228 in /opt/conda/lib/python3.10/site-packages (from pdfplumber) (20231228)\n",
      "Requirement already satisfied: Pillow>=9.1 in /opt/conda/lib/python3.10/site-packages (from pdfplumber) (10.3.0)\n",
      "Requirement already satisfied: pypdfium2>=4.18.0 in /opt/conda/lib/python3.10/site-packages (from pdfplumber) (4.30.0)\n",
      "Requirement already satisfied: charset-normalizer>=2.0.0 in /opt/conda/lib/python3.10/site-packages (from pdfminer.six==20231228->pdfplumber) (3.3.2)\n",
      "Requirement already satisfied: cryptography>=36.0.0 in /opt/conda/lib/python3.10/site-packages (from pdfminer.six==20231228->pdfplumber) (42.0.8)\n",
      "Requirement already satisfied: cffi>=1.12 in /opt/conda/lib/python3.10/site-packages (from cryptography>=36.0.0->pdfminer.six==20231228->pdfplumber) (1.16.0)\n",
      "Requirement already satisfied: pycparser in /opt/conda/lib/python3.10/site-packages (from cffi>=1.12->cryptography>=36.0.0->pdfminer.six==20231228->pdfplumber) (2.22)\n"
     ]
    }
   ],
   "source": [
    "!pip install pdfplumber"
   ]
  },
  {
   "cell_type": "markdown",
   "id": "59604d76",
   "metadata": {},
   "source": [
    "## 2. Bedrock 설정 및 호출 함수 정의"
   ]
  },
  {
   "cell_type": "code",
   "execution_count": 2,
   "id": "44475a10",
   "metadata": {},
   "outputs": [],
   "source": [
    "import json\n",
    "import boto3\n",
    "from pprint import pprint\n",
    "\n",
    "# Bedrock runtime 생성\n",
    "bedrock_runtime = boto3.client(\n",
    "    service_name=\"bedrock-runtime\"\n",
    ")"
   ]
  },
  {
   "cell_type": "code",
   "execution_count": 3,
   "id": "eeeca58b",
   "metadata": {},
   "outputs": [],
   "source": [
    "def invoke_bedrock(\n",
    "    query: str,\n",
    "    model_id: str = \"anthropic.claude-3-sonnet-20240229-v1:0\",\n",
    "    max_tokens: int = 4096,\n",
    "    temperature: float = 1.0,\n",
    "    top_p: float = 1.0,\n",
    "    top_k: int = 250,\n",
    ") -> str:\n",
    "\n",
    "    # Request body 작성\n",
    "    request_data = {\n",
    "        \"anthropic_version\": \"bedrock-2023-05-31\",\n",
    "        \"max_tokens\": max_tokens,\n",
    "        \"temperature\": temperature,\n",
    "        \"top_p\": top_p,\n",
    "        \"top_k\": top_k,\n",
    "        \"messages\": [\n",
    "            {\n",
    "                \"role\": \"user\",\n",
    "                \"content\": [\n",
    "                    {\"type\": \"text\", \"text\": query},\n",
    "                ],\n",
    "            }\n",
    "        ],\n",
    "    }\n",
    "    request_body = json.dumps(request_data)\n",
    "\n",
    "    # 모델 호출\n",
    "    response = bedrock_runtime.invoke_model(\n",
    "        body=request_body,\n",
    "        modelId=model_id,\n",
    "        contentType=\"application/json\",\n",
    "        accept=\"application/json\"\n",
    "    )\n",
    "\n",
    "    response_body = json.loads(response['body'].read())\n",
    "    answer = response_body['content'][0]['text']\n",
    "    return answer"
   ]
  },
  {
   "cell_type": "markdown",
   "id": "6ca25239",
   "metadata": {},
   "source": [
    "## 3. PDF 문서 읽는 함수 정의¶"
   ]
  },
  {
   "cell_type": "code",
   "execution_count": 4,
   "id": "65359151",
   "metadata": {},
   "outputs": [],
   "source": [
    "import pdfplumber\n",
    "\n",
    "def get_texts_from_pdf(filepath: str, start_page:int, page_number:int):\n",
    "    with pdfplumber.open(filepath) as pdf:\n",
    "        number_of_pages = len(pdf.pages)\n",
    "        end_page = start_page + page_number\n",
    "        if end_page > number_of_pages:\n",
    "            end_page = number_of_pages\n",
    "            \n",
    "        contents = \"\"\n",
    "        for i in range(start_page, end_page):\n",
    "            page = pdf.pages[i]\n",
    "            contents += page.extract_text()\n",
    "            contents += \"\\n\\n\"\n",
    "        return contents"
   ]
  },
  {
   "cell_type": "markdown",
   "id": "5ae8e30e",
   "metadata": {},
   "source": [
    "## 5. 챕터별로 요약하기"
   ]
  },
  {
   "cell_type": "code",
   "execution_count": 5,
   "id": "83257ace",
   "metadata": {},
   "outputs": [
    {
     "name": "stdout",
     "output_type": "stream",
     "text": [
      "유럽 철강 요약:\n",
      "\n",
      "- 독일 HRC 가격은 2024년 634유로/mt에서 2025년 720유로/mt로 상승할 것으로 예상됩니다.\n",
      "- 독일 PMI 제조업지수는 2024년 41.9포인트에서 2025년 44.3포인트로 개선될 전망입니다. \n",
      "- 독일 철강 재고량은 2024년 1.2~1.3백만 mt 수준을 유지할 것으로 보입니다.\n",
      "\n",
      "미국 철강 요약:\n",
      "\n",
      "- 미국 HRC 가격은 2024년 783달러/st에서 2025년 930달러/st까지 상승할 것으로 예상됩니다.\n",
      "- 미국 제조업 PMI는 2024년 48.7포인트에서 2025년 50.3포인트로 개선될 전망입니다.\n",
      "- 미국 철강 가동률은 2024년 76.4%에서 2025년 79.5%까지 높아질 것으로 보입니다.\n",
      "- 미국 철강 리드타임은 2024년 4.6주에서 2025년 5.2주로 길어질 전망입니다.  \n",
      "\n",
      "중국 철강 요약:\n",
      "\n",
      "- 2024년 중국 철강 소비량은 883백만 mt로 전년 대비 1.8% 감소할 것으로 예상됩니다.\n",
      "- 부동산 부문 철강 수요는 247백만 mt로 8.2% 감소하겠지만, 인프라/기계/자동차 등 다른 부문 수요는 증가할 전망입니다.\n"
     ]
    }
   ],
   "source": [
    "content = get_texts_from_pdf(filepath=\"./rag_data/Ferrous Markets Analytics Monthly_26 Jun 2024.pdf\", start_page=0, page_number=99)\n",
    "prompt = f\"\"\"\n",
    "\n",
    "당신은 PDF 문서를 챕터별로 요약하는 AI 입니다.\n",
    "주어진 <content> 태그 안에 있는 내용을 챕터 별로 요약해주세요.\n",
    "각 챕터별로 전체적인 요약이 되어야 합니다.\n",
    "\n",
    "<content>\n",
    "{content}\n",
    "</content>\n",
    "\n",
    "<mandatory>\n",
    "1. 숫자가 포함된 내용\n",
    "</mandatory>\n",
    "\n",
    "\"\"\"\n",
    "result = invoke_bedrock(query=prompt, temperature=0, top_p=0)\n",
    "print(result)"
   ]
  },
  {
   "cell_type": "code",
   "execution_count": null,
   "id": "965203c9",
   "metadata": {},
   "outputs": [],
   "source": []
  }
 ],
 "metadata": {
  "kernelspec": {
   "display_name": "Python 3 (ipykernel)",
   "language": "python",
   "name": "python3"
  },
  "language_info": {
   "codemirror_mode": {
    "name": "ipython",
    "version": 3
   },
   "file_extension": ".py",
   "mimetype": "text/x-python",
   "name": "python",
   "nbconvert_exporter": "python",
   "pygments_lexer": "ipython3",
   "version": "3.10.14"
  }
 },
 "nbformat": 4,
 "nbformat_minor": 5
}
