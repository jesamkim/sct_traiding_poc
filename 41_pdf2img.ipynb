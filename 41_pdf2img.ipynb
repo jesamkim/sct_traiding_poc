{
 "cells": [
  {
   "cell_type": "markdown",
   "id": "47627d64-1c45-4339-bac9-cf545cffa96f",
   "metadata": {},
   "source": [
    "# PDF 문서를 image로 변환 후 요약하는 샘플 코드"
   ]
  },
  {
   "cell_type": "code",
   "execution_count": 1,
   "id": "fc0bba82-6d6d-4f62-b958-7f7db81590ba",
   "metadata": {},
   "outputs": [
    {
     "name": "stdout",
     "output_type": "stream",
     "text": [
      "Requirement already satisfied: PyMuPDF in /opt/conda/lib/python3.10/site-packages (1.24.7)\n",
      "Requirement already satisfied: Pillow in /opt/conda/lib/python3.10/site-packages (10.3.0)\n",
      "Requirement already satisfied: boto3 in /opt/conda/lib/python3.10/site-packages (1.34.141)\n",
      "Requirement already satisfied: PyMuPDFb==1.24.6 in /opt/conda/lib/python3.10/site-packages (from PyMuPDF) (1.24.6)\n",
      "Requirement already satisfied: botocore<1.35.0,>=1.34.141 in /opt/conda/lib/python3.10/site-packages (from boto3) (1.34.141)\n",
      "Requirement already satisfied: jmespath<2.0.0,>=0.7.1 in /opt/conda/lib/python3.10/site-packages (from boto3) (1.0.1)\n",
      "Requirement already satisfied: s3transfer<0.11.0,>=0.10.0 in /opt/conda/lib/python3.10/site-packages (from boto3) (0.10.2)\n",
      "Requirement already satisfied: python-dateutil<3.0.0,>=2.1 in /opt/conda/lib/python3.10/site-packages (from botocore<1.35.0,>=1.34.141->boto3) (2.9.0)\n",
      "Requirement already satisfied: urllib3!=2.2.0,<3,>=1.25.4 in /opt/conda/lib/python3.10/site-packages (from botocore<1.35.0,>=1.34.141->boto3) (1.26.19)\n",
      "Requirement already satisfied: six>=1.5 in /opt/conda/lib/python3.10/site-packages (from python-dateutil<3.0.0,>=2.1->botocore<1.35.0,>=1.34.141->boto3) (1.16.0)\n"
     ]
    }
   ],
   "source": [
    "!pip install PyMuPDF Pillow boto3"
   ]
  },
  {
   "cell_type": "markdown",
   "id": "421d6560-d4f3-42f3-9455-0a404408463c",
   "metadata": {},
   "source": [
    "## 1. 매서드 작성"
   ]
  },
  {
   "cell_type": "code",
   "execution_count": 2,
   "id": "514eaf33-2265-4ac2-ab8f-ba179c80b590",
   "metadata": {},
   "outputs": [],
   "source": [
    "import fitz  # PyMuPDF\n",
    "import boto3\n",
    "import base64\n",
    "from PIL import Image\n",
    "import io\n",
    "import json"
   ]
  },
  {
   "cell_type": "code",
   "execution_count": 3,
   "id": "1c480be3-f6f3-4f75-8f68-7d2098118303",
   "metadata": {},
   "outputs": [],
   "source": [
    "# 1. PDF를 이미지로 변환\n",
    "def pdf_to_images(pdf_path):\n",
    "    doc = fitz.open(pdf_path)\n",
    "    images = []\n",
    "    for page in doc:\n",
    "        pix = page.get_pixmap()\n",
    "        img = Image.frombytes(\"RGB\", [pix.width, pix.height], pix.samples)\n",
    "        images.append(img)\n",
    "    return images"
   ]
  },
  {
   "cell_type": "code",
   "execution_count": 4,
   "id": "e4c0e823-988d-4218-b654-85b55aca1765",
   "metadata": {},
   "outputs": [],
   "source": [
    "# 2. 이미지를 Base64로 인코딩\n",
    "def image_to_base64(image):\n",
    "    buffered = io.BytesIO()\n",
    "    image.save(buffered, format=\"PNG\")\n",
    "    return base64.b64encode(buffered.getvalue()).decode()"
   ]
  },
  {
   "cell_type": "code",
   "execution_count": 5,
   "id": "722e8c2f-598c-48d6-aafc-6093c7a4bb98",
   "metadata": {},
   "outputs": [],
   "source": [
    "# 3. Amazon Bedrock 클라이언트 설정\n",
    "bedrock = boto3.client(\n",
    "    service_name='bedrock-runtime',\n",
    "    region_name='us-east-1'  # 예: 'us-east-1'\n",
    ")"
   ]
  },
  {
   "cell_type": "code",
   "execution_count": 20,
   "id": "5330f7cc-9857-41cb-8a0e-6329e9537114",
   "metadata": {},
   "outputs": [],
   "source": [
    "# 4. Claude 모델에 이미지 전송 및 응답 받기\n",
    "def get_claude_response(image_base64):\n",
    "    \n",
    "    prompt = \"\"\"\n",
    "    다음 <instruction></instruction>에 따라 이미지의 context를 최대한 자세히 알려주세요.\n",
    "    <instruction>\n",
    "    1. 중요 정보나 객관적 데이터를 누락하지 말고 반드시 포함하세요.\n",
    "    2. Content 또는 Agenda 같은 목차에 대한 내용은 보이는 그대로 자세하게 적어 주세요. 세부 목차가 있다면 생략하지 말고 전부 적어주세요.\n",
    "    3. 테이블이나 차트와 같은 부분에 대해서도 자세한 내용을 포함하세요.\n",
    "    4. 타이틀이 있는 내용은 타이틀 이름도 반드시 포함하세요.\n",
    "    </instruction>\n",
    "    \"\"\"\n",
    "    \n",
    "    body = {\n",
    "        \"anthropic_version\": \"bedrock-2023-05-31\",\n",
    "        \"max_tokens\": 4096,\n",
    "        \"temperature\": 0,\n",
    "        \"top_p\": 0,\n",
    "        \"top_k\": 0,\n",
    "        \"messages\": [\n",
    "            {\n",
    "                \"role\": \"user\",\n",
    "                \"content\": [\n",
    "                    {\n",
    "                        \"type\": \"image\",\n",
    "                        \"source\": {\n",
    "                            \"type\": \"base64\",\n",
    "                            \"media_type\": \"image/png\",\n",
    "                            \"data\": image_base64\n",
    "                        }\n",
    "                    },\n",
    "                    {\n",
    "                        \"type\": \"text\",\n",
    "                        \"text\": prompt\n",
    "                    }\n",
    "                ]\n",
    "            }\n",
    "        ]\n",
    "    }\n",
    "\n",
    "    #테스트 환경에 Claude 3.5 사용이 불가합니다. 고객 분들은 아래 modelId를 Claude 3.5 Sonnet 으로 변경해주세요.\n",
    "    response = bedrock.invoke_model(\n",
    "        body=json.dumps(body),\n",
    "        #modelId = \"anthropic.claude-3-5-sonnet-20240620-v1:0\"  # Claude 3.5 Sonnet\n",
    "        modelId=\"anthropic.claude-3-sonnet-20240229-v1:0\",      # Claude 3 Sonnet\n",
    "        contentType=\"application/json\",\n",
    "        accept=\"application/json\"\n",
    "    )\n",
    "\n",
    "    response_body = json.loads(response['body'].read())\n",
    "    return response_body['content'][0]['text']"
   ]
  },
  {
   "cell_type": "markdown",
   "id": "a75b36be-8881-42e7-b56a-52a183e75838",
   "metadata": {},
   "source": [
    "## 2. Claude 3.x 모델 호출하여 이미지 pdf 처리\n",
    "\n",
    "#### Claude 3.5 Sonnet 의 이미지 분석 성능이 더 뛰어납니다. 아래 결과는 Claude 3 Sonnet 결과 입니다,"
   ]
  },
  {
   "cell_type": "code",
   "execution_count": 21,
   "id": "b9b601bc-c857-40dc-a02f-b06dbcb8de05",
   "metadata": {},
   "outputs": [
    {
     "name": "stdout",
     "output_type": "stream",
     "text": [
      "Page 1 Summary:\n",
      "이 이미지는 SBB Global Commodity Insights의 일일 브리핑 문서로 보입니다. 상단에는 Platts와 Platts Connect에 대한 정보가 있습니다.\n",
      "\n",
      "Price snapshot 섹션에는 다양한 상품의 심볼, 단위, 가격, 변동, 변동률, 평가 일자가 테이블 형식으로 제시되어 있습니다. 상품으로는 Dubai 부탄, Euro 유로, NWE 등이 있습니다.\n",
      "\n",
      "Weekly prices 섹션에는 HSFO FO 380 cSt의 가격이 제시되어 있습니다.\n",
      "\n",
      "Contents 섹션에는 Asia, Fuel Products, Bunker, Crude, EMEA, Fuel Products, Petrochemicals, LPG, NGL, Biofuels, Dry Freight, CIS 등의 주제별 세부 목차가 나열되어 있습니다.\n",
      "\n",
      "---\n",
      "\n",
      "Page 2 Summary:\n",
      "이 이미지는 SBB(Steel, Billets, Blooms) Daily Briefing 보고서의 일부분입니다. 상단에는 \"Asia\", \"Flat Products\", \"Asian HRC at standstill; buying indications fading behind\"라는 제목이 있습니다.\n",
      "\n",
      "아시아 지역 내용에는 다음과 같은 세부사항이 포함되어 있습니다:\n",
      "\n",
      "- 중국 국내 가격은 톤당 3,850위안으로 전일 대비 2% 하락\n",
      "- 중국 수출 가격은 톤당 $520/CFR로 전일과 동일\n",
      "- 동남아시아 수출 가격도 톤당 $520/CFR로 전일과 동일\n",
      "- 일본/한국 코일 가격은 톤당 $510/CFR 수준으로 추정\n",
      "- 아시아 HRC 시장은 거래 정체 상태, 구매 관심 감소 조짐\n",
      "\n",
      "\"Flat Products\" 섹션에서는 중국, 일본, 한국의 평판 제품 가격 동향을 설명하고 있습니다.\n",
      "\n",
      "하단에는 \"Indian rebar prices dip as mills lower offers to ignite market; HRC mills compete\" 제목 아래 인도 철강 시장 동향이 요약되어 있습니다.\n",
      "\n",
      "---\n",
      "\n",
      "Page 3 Summary:\n",
      "이 이미지는 SGX Global Commodity Insights에서 발행한 철강 시장 보고서의 일부분입니다. 주요 내용은 다음과 같습니다:\n",
      "\n",
      "Long Products 섹션에서는 아시아 빌렛 가격 상승, 중국 선물 가격 상승, 베트남 가격 상승 등의 내용을 다루고 있습니다.\n",
      "\n",
      "Flat Products 섹션의 European HRC prices remains flat ahead of a quiet expected summer 부분에서는 유럽 HRC 가격이 여름 비수기를 앞두고 보합세를 유지하고 있다고 설명합니다.\n",
      "\n",
      "세부적인 내용을 보면, 밀라 지역에서는 구매자들이 가격 인상 요구를 거부하면서 가격 상승이 제한되었고, 중국 국내 시장에서는 가격이 상승했지만 거래 활동은 둔화된 모습을 보였습니다. \n",
      "\n",
      "베트남 수출 오퍼가 상승했고, 아시아 빌렛 가격도 상승했으며 중국 선물 가격 역시 상승했습니다. 싱가포르 국내 수요는 견조했지만 수출 수요는 약세를 보였습니다.\n",
      "\n",
      "유럽 HRC 가격은 여름 비수기를 앞두고 보합세를 유지하고 있으며, 시장 참가자들은 9월까지 가격 상승을 기대하지 않고 있다고 설명합니다.\n",
      "\n",
      "---\n",
      "\n",
      "Page 4 Summary:\n",
      "이 이미지는 철강 제품 시장 동향에 대한 보고서의 일부분으로 보입니다. 주요 내용은 다음과 같습니다:\n",
      "\n",
      "Long Products 섹션에서는 터키 수출 철근 가격이 범위 내에서 거래되고 있다고 설명합니다. 수출 시장 수요가 약했고, 가격은 안정세를 보였습니다.\n",
      "\n",
      "UK HRC 시장 섹션에서는 국내 가격이 약세를 보이고 있으며 수요와 공급 모두 감소했다고 전합니다. 일부 대형 구매자들이 서비스 중단으로 가격이 크게 하락했다고 합니다.\n",
      "\n",
      "Raw Materials and Scrap 섹션에서는 터키 국내 철스크랩 수입 가격이 단기적으로 약세를 보이고 있다고 설명합니다. \n",
      "\n",
      "각 섹션에는 관련 제품의 실제 가격 데이터와 거래 정보가 상세히 제공되어 있습니다.\n",
      "\n",
      "---\n",
      "\n",
      "Page 5 Summary:\n",
      "이 이미지는 철강 시장 뉴스와 가격 정보를 담고 있는 보고서의 일부분입니다. 상단에는 \"CIS Long Products\"라는 제목 아래 터키 빌렛 시장에 대한 정보가 있습니다. 중국 바이어들의 제한적인 수요와 러시아 물량에 대한 목표가격 $820/mt CFR 등의 내용이 포함되어 있습니다.\n",
      "\n",
      "아래에는 \"Americas\" 제목 아래 \"Industry news\"라는 소제목이 있습니다. 여기에는 중국 철강 시장 전망과 단기 경기부양책의 제한적 효과에 대한 내용이 실려 있습니다.\n",
      "\n",
      "오른쪽 하단에는 철강 가격 정보가 테이블 형식으로 제시되어 있습니다. 터키 빌렛의 최대/최소 가격 범위와 러시아 물량의 목표가격 $820/mt CFR 등의 구체적인 가격 데이터가 수록되어 있습니다. 또한 터키 수입 비용과 내수 가격 목표치도 명시되어 있습니다.\n",
      "\n",
      "---\n",
      "\n",
      "Page 6 Summary:\n",
      "이 이미지는 중국 경제 및 정책에 관한 보고서의 일부분으로 보입니다. 상단에는 \"Policy makers' gathering\"이라는 제목이 있습니다.\n",
      "\n",
      "내용은 다음과 같이 구성되어 있습니다:\n",
      "\n",
      "1. 중국 공산당의 결정 회의에 대한 설명과 정책 완화에 대한 기대감 언급\n",
      "2. 주택 판매 감소, 신규 주택 판매 가치 데이터 제공 \n",
      "3. 6월 생산 활동 감소 예상 및 1.9% 감소 데이터 인용\n",
      "4. 중국 중앙은행의 추가 완화 정책 가능성 시사\n",
      "5. \"Property\" 섹션에서 주요 부동산 개발업체들의 신규 주택 판매 가치 감소 데이터 제공\n",
      "\n",
      "또한 \"Tata Steel UK closes Port Talbot's blast furnace 5\" 제목 아래에는 Tata Steel 회사의 영국 포트탈봇 제철소 가동 중단 계획에 대한 내용이 있습니다.\n",
      "\n",
      "---\n",
      "\n",
      "Page 7 Summary:\n",
      "이 이미지는 금속 및 철강 산업 관련 뉴스 기사들의 모음입니다. 주요 내용은 다음과 같습니다:\n",
      "\n",
      "타이틀: Steel Data Preview - July 6, 2022\n",
      "\n",
      "주요 내용:\n",
      "- 바오스틸(Baosteel)이 상하이 지역 공장에서 연속 주조 프로젝트를 진행할 예정이며, 이는 바오스틸 그룹에서 3개월 만에 세 번째 주문입니다.\n",
      "- 터키 HRC 수출이 5월 대비 6월에 두 배로 증가했습니다. 구체적인 수치는 다음과 같습니다:\n",
      "    - 남유럽 지역 수출 증가\n",
      "    - 북아프리카 지역 수출 감소\n",
      "- 영국의 신규 자동차 등록이 2023년 중반까지 100만 대에 이를 것으로 전망됩니다. 세부 내용:\n",
      "    - 신규 등록 13% 증가 예상\n",
      "    - 플릿 업데이트율 15.2% \n",
      "    - 배터리 전기차 판매 92% 증가\n",
      "\n",
      "차트:\n",
      "- 터키 HRC 수출량 차트(5월 vs 6월)\n",
      "\n",
      "이 외에도 중국 바오스틸의 연속 주조 기술 도입, 철강 수요 전망 등 다양한 업계 뉴스와 데이터가 포함되어 있습니다.\n",
      "\n",
      "---\n",
      "\n",
      "Page 8 Summary:\n",
      "이 이미지는 자동차 산업 관련 뉴스 기사의 일부분을 보여주고 있습니다. 주요 내용은 다음과 같습니다:\n",
      "\n",
      "제목: Germany Data: June EV sales fall 14.7% on year VDA\n",
      "\n",
      "- 독일의 6월 전기차 판매량이 전년 대비 14.7% 감소했다고 보고하고 있습니다.\n",
      "- 2025년 EV 판매 생산 전망치와 2022년 EV 판매 데이터를 제공하고 있습니다.\n",
      "\n",
      "Brazil Data: HEV sales jump 149% on year, says ABAV\n",
      "\n",
      "- 브라질의 하이브리드 전기차(HEV) 판매가 전년 대비 149% 증가했다고 보도하고 있습니다. \n",
      "- 2024년까지 EV 판매 목표와 정책에 대해 설명하고 있습니다.\n",
      "\n",
      "차트: UK new car registrations\n",
      "- 2022년 6월까지의 영국 신차 등록 데이터를 차트로 보여주고 있습니다. 전기차(BEV), 플러그인 하이브리드(PHEV), 하이브리드(HEV), 디젤, 가솔린 차량 등록대수를 구분하여 표시하고 있습니다.\n",
      "\n",
      "기사 본문:\n",
      "- BEV, PHEV 판매 전망, VDA의 EV 판매 조정 전망 등 업계 동향을 자세히 설명하고 있습니다.\n",
      "- 영국 6월 차량 판매량 데이터와 증감 추이를 구체적으로 보고하고 있습니다.\n",
      "\n",
      "---\n",
      "\n",
      "Page 9 Summary:\n",
      "이 이미지는 Platts의 여러 일일 가격 평가 내역을 보여주는 보고서 페이지입니다. 상단에는 EMEA 지역의 휘발유, 디젤, 제트연료 가격 평가 근거가 제시되어 있습니다. \n",
      "\n",
      "중간 부분에는 이탈리아 스팀 개질 수소 생산 공정에 대한 설명이 있습니다. 수소는 파이프라인을 통해 공급되며, 테스트를 통해 성능과 신뢰성을 평가할 예정이라고 명시되어 있습니다.\n",
      "\n",
      "하단에는 여러 제품의 일일 가격 평가 근거가 테이블 형식으로 자세히 제시되어 있습니다.\n",
      "- Platts EMEA Turkish Rebar Daily Rationale\n",
      "- Platts EMEA Turkish Ferrous Scrap Daily Rationale \n",
      "- Platts FOB Black Sea Steel Billet Rationale\n",
      "\n",
      "각 테이블에는 해당 제품의 가격 산정 기준, 거래 범위, 가격 변동 등의 정보가 포함되어 있습니다.\n",
      "\n",
      "---\n",
      "\n",
      "Page 10 Summary:\n",
      "이 이미지는 Platts라는 회사의 시장 인사이트 보고서 페이지로 보입니다. 주요 내용은 다음과 같습니다:\n",
      "\n",
      "Subscriber Notes:\n",
      "- Platts는 7월 2일 HRC EXW Ruhr 탄소배출량 평가를 수정했습니다. 이는 Platts가 수집한 거래 데이터를 기반으로 한 것입니다.\n",
      "\n",
      "Platts EMEA HRC Assessment Rationale:\n",
      "- 7월 4일 현재 유럽 HRC 평가는 €975/mt ex-works Ruhr 지역입니다. \n",
      "- 제안, 입찰 또는 거래 내역은 없었습니다.\n",
      "- 이는 Platts EMEA Commodity Insights의 평가 근거입니다.\n",
      "\n",
      "Platts eliminates high/low price ranges for US Midwest ferrous scrap assessments:\n",
      "- Platts는 미국 중서부 지역 철스크랩 가격 평가에서 높은/낮은 가격 범위를 제거했습니다.\n",
      "- 이제는 단일 종가로 대체되었습니다.\n",
      "- 영향을 받는 평가에는 SHREDDED, BUSHELING, HMS 1&2 (80/20), 및 HEAVY MELTING SCRAP 1/2 (SHREDDED)가 포함됩니다.\n",
      "\n",
      "다음과 같은 세부 정보도 포함되어 있습니다:\n",
      "- 미국 비철금속 가격 평가 휴일 일정\n",
      "- 미국 알루미늄 프리미엄 가격 평가 관련 사항\n",
      "- 연락처 정보 및 추가 자료를 확인할 수 있는 웹사이트\n",
      "\n",
      "전반적으로 이 페이지는 Platts의 다양한 상품 가격 평가 방법론과 업데이트 사항을 상세히 설명하고 있습니다.\n",
      "\n",
      "---\n",
      "\n"
     ]
    }
   ],
   "source": [
    "pdf_path = \"./rag_data/Steel Business Briefing_04 Jul 2024.pdf\"\n",
    "images = pdf_to_images(pdf_path)\n",
    "\n",
    "img_context = []\n",
    "\n",
    "for i, image in enumerate(images):\n",
    "    image_base64 = image_to_base64(image)\n",
    "    response = get_claude_response(image_base64)\n",
    "    print(f\"Page {i+1} Summary:\")\n",
    "    print(response)\n",
    "    img_context.append(response)\n",
    "    print(\"\\n---\\n\")"
   ]
  },
  {
   "cell_type": "markdown",
   "id": "c275de61-e68b-4028-b63e-d712733afa78",
   "metadata": {},
   "source": [
    "### img_context 내용을 다음 노트북에서 사용하도록 저장"
   ]
  },
  {
   "cell_type": "code",
   "execution_count": 22,
   "id": "9c31b2a3-6918-4bca-883f-33193ea32db6",
   "metadata": {},
   "outputs": [
    {
     "name": "stdout",
     "output_type": "stream",
     "text": [
      "Stored 'img_context' (list)\n"
     ]
    }
   ],
   "source": [
    "%store img_context"
   ]
  },
  {
   "cell_type": "code",
   "execution_count": 23,
   "id": "f6b9affd-092d-43ca-9de3-2d19d06a6249",
   "metadata": {},
   "outputs": [
    {
     "data": {
      "text/plain": [
       "['이 이미지는 SBB Global Commodity Insights의 일일 브리핑 문서로 보입니다. 상단에는 Platts와 Platts Connect에 대한 정보가 있습니다.\\n\\nPrice snapshot 섹션에는 다양한 상품의 심볼, 단위, 가격, 변동, 변동률, 평가 일자가 테이블 형식으로 제시되어 있습니다. 상품으로는 Dubai 부탄, Euro 유로, NWE 등이 있습니다.\\n\\nWeekly prices 섹션에는 HSFO FO 380 cSt의 가격이 제시되어 있습니다.\\n\\nContents 섹션에는 Asia, Fuel Products, Bunker, Crude, EMEA, Fuel Products, Petrochemicals, LPG, NGL, Biofuels, Dry Freight, CIS 등의 주제별 세부 목차가 나열되어 있습니다.',\n",
       " '이 이미지는 SBB(Steel, Billets, Blooms) Daily Briefing 보고서의 일부분입니다. 상단에는 \"Asia\", \"Flat Products\", \"Asian HRC at standstill; buying indications fading behind\"라는 제목이 있습니다.\\n\\n아시아 지역 내용에는 다음과 같은 세부사항이 포함되어 있습니다:\\n\\n- 중국 국내 가격은 톤당 3,850위안으로 전일 대비 2% 하락\\n- 중국 수출 가격은 톤당 $520/CFR로 전일과 동일\\n- 동남아시아 수출 가격도 톤당 $520/CFR로 전일과 동일\\n- 일본/한국 코일 가격은 톤당 $510/CFR 수준으로 추정\\n- 아시아 HRC 시장은 거래 정체 상태, 구매 관심 감소 조짐\\n\\n\"Flat Products\" 섹션에서는 중국, 일본, 한국의 평판 제품 가격 동향을 설명하고 있습니다.\\n\\n하단에는 \"Indian rebar prices dip as mills lower offers to ignite market; HRC mills compete\" 제목 아래 인도 철강 시장 동향이 요약되어 있습니다.',\n",
       " '이 이미지는 SGX Global Commodity Insights에서 발행한 철강 시장 보고서의 일부분입니다. 주요 내용은 다음과 같습니다:\\n\\nLong Products 섹션에서는 아시아 빌렛 가격 상승, 중국 선물 가격 상승, 베트남 가격 상승 등의 내용을 다루고 있습니다.\\n\\nFlat Products 섹션의 European HRC prices remains flat ahead of a quiet expected summer 부분에서는 유럽 HRC 가격이 여름 비수기를 앞두고 보합세를 유지하고 있다고 설명합니다.\\n\\n세부적인 내용을 보면, 밀라 지역에서는 구매자들이 가격 인상 요구를 거부하면서 가격 상승이 제한되었고, 중국 국내 시장에서는 가격이 상승했지만 거래 활동은 둔화된 모습을 보였습니다. \\n\\n베트남 수출 오퍼가 상승했고, 아시아 빌렛 가격도 상승했으며 중국 선물 가격 역시 상승했습니다. 싱가포르 국내 수요는 견조했지만 수출 수요는 약세를 보였습니다.\\n\\n유럽 HRC 가격은 여름 비수기를 앞두고 보합세를 유지하고 있으며, 시장 참가자들은 9월까지 가격 상승을 기대하지 않고 있다고 설명합니다.',\n",
       " '이 이미지는 철강 제품 시장 동향에 대한 보고서의 일부분으로 보입니다. 주요 내용은 다음과 같습니다:\\n\\nLong Products 섹션에서는 터키 수출 철근 가격이 범위 내에서 거래되고 있다고 설명합니다. 수출 시장 수요가 약했고, 가격은 안정세를 보였습니다.\\n\\nUK HRC 시장 섹션에서는 국내 가격이 약세를 보이고 있으며 수요와 공급 모두 감소했다고 전합니다. 일부 대형 구매자들이 서비스 중단으로 가격이 크게 하락했다고 합니다.\\n\\nRaw Materials and Scrap 섹션에서는 터키 국내 철스크랩 수입 가격이 단기적으로 약세를 보이고 있다고 설명합니다. \\n\\n각 섹션에는 관련 제품의 실제 가격 데이터와 거래 정보가 상세히 제공되어 있습니다.',\n",
       " '이 이미지는 철강 시장 뉴스와 가격 정보를 담고 있는 보고서의 일부분입니다. 상단에는 \"CIS Long Products\"라는 제목 아래 터키 빌렛 시장에 대한 정보가 있습니다. 중국 바이어들의 제한적인 수요와 러시아 물량에 대한 목표가격 $820/mt CFR 등의 내용이 포함되어 있습니다.\\n\\n아래에는 \"Americas\" 제목 아래 \"Industry news\"라는 소제목이 있습니다. 여기에는 중국 철강 시장 전망과 단기 경기부양책의 제한적 효과에 대한 내용이 실려 있습니다.\\n\\n오른쪽 하단에는 철강 가격 정보가 테이블 형식으로 제시되어 있습니다. 터키 빌렛의 최대/최소 가격 범위와 러시아 물량의 목표가격 $820/mt CFR 등의 구체적인 가격 데이터가 수록되어 있습니다. 또한 터키 수입 비용과 내수 가격 목표치도 명시되어 있습니다.',\n",
       " '이 이미지는 중국 경제 및 정책에 관한 보고서의 일부분으로 보입니다. 상단에는 \"Policy makers\\' gathering\"이라는 제목이 있습니다.\\n\\n내용은 다음과 같이 구성되어 있습니다:\\n\\n1. 중국 공산당의 결정 회의에 대한 설명과 정책 완화에 대한 기대감 언급\\n2. 주택 판매 감소, 신규 주택 판매 가치 데이터 제공 \\n3. 6월 생산 활동 감소 예상 및 1.9% 감소 데이터 인용\\n4. 중국 중앙은행의 추가 완화 정책 가능성 시사\\n5. \"Property\" 섹션에서 주요 부동산 개발업체들의 신규 주택 판매 가치 감소 데이터 제공\\n\\n또한 \"Tata Steel UK closes Port Talbot\\'s blast furnace 5\" 제목 아래에는 Tata Steel 회사의 영국 포트탈봇 제철소 가동 중단 계획에 대한 내용이 있습니다.',\n",
       " '이 이미지는 금속 및 철강 산업 관련 뉴스 기사들의 모음입니다. 주요 내용은 다음과 같습니다:\\n\\n타이틀: Steel Data Preview - July 6, 2022\\n\\n주요 내용:\\n- 바오스틸(Baosteel)이 상하이 지역 공장에서 연속 주조 프로젝트를 진행할 예정이며, 이는 바오스틸 그룹에서 3개월 만에 세 번째 주문입니다.\\n- 터키 HRC 수출이 5월 대비 6월에 두 배로 증가했습니다. 구체적인 수치는 다음과 같습니다:\\n    - 남유럽 지역 수출 증가\\n    - 북아프리카 지역 수출 감소\\n- 영국의 신규 자동차 등록이 2023년 중반까지 100만 대에 이를 것으로 전망됩니다. 세부 내용:\\n    - 신규 등록 13% 증가 예상\\n    - 플릿 업데이트율 15.2% \\n    - 배터리 전기차 판매 92% 증가\\n\\n차트:\\n- 터키 HRC 수출량 차트(5월 vs 6월)\\n\\n이 외에도 중국 바오스틸의 연속 주조 기술 도입, 철강 수요 전망 등 다양한 업계 뉴스와 데이터가 포함되어 있습니다.',\n",
       " '이 이미지는 자동차 산업 관련 뉴스 기사의 일부분을 보여주고 있습니다. 주요 내용은 다음과 같습니다:\\n\\n제목: Germany Data: June EV sales fall 14.7% on year VDA\\n\\n- 독일의 6월 전기차 판매량이 전년 대비 14.7% 감소했다고 보고하고 있습니다.\\n- 2025년 EV 판매 생산 전망치와 2022년 EV 판매 데이터를 제공하고 있습니다.\\n\\nBrazil Data: HEV sales jump 149% on year, says ABAV\\n\\n- 브라질의 하이브리드 전기차(HEV) 판매가 전년 대비 149% 증가했다고 보도하고 있습니다. \\n- 2024년까지 EV 판매 목표와 정책에 대해 설명하고 있습니다.\\n\\n차트: UK new car registrations\\n- 2022년 6월까지의 영국 신차 등록 데이터를 차트로 보여주고 있습니다. 전기차(BEV), 플러그인 하이브리드(PHEV), 하이브리드(HEV), 디젤, 가솔린 차량 등록대수를 구분하여 표시하고 있습니다.\\n\\n기사 본문:\\n- BEV, PHEV 판매 전망, VDA의 EV 판매 조정 전망 등 업계 동향을 자세히 설명하고 있습니다.\\n- 영국 6월 차량 판매량 데이터와 증감 추이를 구체적으로 보고하고 있습니다.',\n",
       " '이 이미지는 Platts의 여러 일일 가격 평가 내역을 보여주는 보고서 페이지입니다. 상단에는 EMEA 지역의 휘발유, 디젤, 제트연료 가격 평가 근거가 제시되어 있습니다. \\n\\n중간 부분에는 이탈리아 스팀 개질 수소 생산 공정에 대한 설명이 있습니다. 수소는 파이프라인을 통해 공급되며, 테스트를 통해 성능과 신뢰성을 평가할 예정이라고 명시되어 있습니다.\\n\\n하단에는 여러 제품의 일일 가격 평가 근거가 테이블 형식으로 자세히 제시되어 있습니다.\\n- Platts EMEA Turkish Rebar Daily Rationale\\n- Platts EMEA Turkish Ferrous Scrap Daily Rationale \\n- Platts FOB Black Sea Steel Billet Rationale\\n\\n각 테이블에는 해당 제품의 가격 산정 기준, 거래 범위, 가격 변동 등의 정보가 포함되어 있습니다.',\n",
       " '이 이미지는 Platts라는 회사의 시장 인사이트 보고서 페이지로 보입니다. 주요 내용은 다음과 같습니다:\\n\\nSubscriber Notes:\\n- Platts는 7월 2일 HRC EXW Ruhr 탄소배출량 평가를 수정했습니다. 이는 Platts가 수집한 거래 데이터를 기반으로 한 것입니다.\\n\\nPlatts EMEA HRC Assessment Rationale:\\n- 7월 4일 현재 유럽 HRC 평가는 €975/mt ex-works Ruhr 지역입니다. \\n- 제안, 입찰 또는 거래 내역은 없었습니다.\\n- 이는 Platts EMEA Commodity Insights의 평가 근거입니다.\\n\\nPlatts eliminates high/low price ranges for US Midwest ferrous scrap assessments:\\n- Platts는 미국 중서부 지역 철스크랩 가격 평가에서 높은/낮은 가격 범위를 제거했습니다.\\n- 이제는 단일 종가로 대체되었습니다.\\n- 영향을 받는 평가에는 SHREDDED, BUSHELING, HMS 1&2 (80/20), 및 HEAVY MELTING SCRAP 1/2 (SHREDDED)가 포함됩니다.\\n\\n다음과 같은 세부 정보도 포함되어 있습니다:\\n- 미국 비철금속 가격 평가 휴일 일정\\n- 미국 알루미늄 프리미엄 가격 평가 관련 사항\\n- 연락처 정보 및 추가 자료를 확인할 수 있는 웹사이트\\n\\n전반적으로 이 페이지는 Platts의 다양한 상품 가격 평가 방법론과 업데이트 사항을 상세히 설명하고 있습니다.']"
      ]
     },
     "execution_count": 23,
     "metadata": {},
     "output_type": "execute_result"
    }
   ],
   "source": [
    "img_context"
   ]
  },
  {
   "cell_type": "code",
   "execution_count": null,
   "id": "09ae0e12-64e6-40e9-9dad-a6770a0308e0",
   "metadata": {},
   "outputs": [],
   "source": []
  }
 ],
 "metadata": {
  "kernelspec": {
   "display_name": "Python 3 (ipykernel)",
   "language": "python",
   "name": "python3"
  },
  "language_info": {
   "codemirror_mode": {
    "name": "ipython",
    "version": 3
   },
   "file_extension": ".py",
   "mimetype": "text/x-python",
   "name": "python",
   "nbconvert_exporter": "python",
   "pygments_lexer": "ipython3",
   "version": "3.10.14"
  }
 },
 "nbformat": 4,
 "nbformat_minor": 5
}
