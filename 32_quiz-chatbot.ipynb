{
 "cells": [
  {
   "cell_type": "markdown",
   "id": "b330bd39",
   "metadata": {},
   "source": [
    "## 1. 라이브러리 설치"
   ]
  },
  {
   "cell_type": "code",
   "execution_count": 1,
   "id": "88cda047",
   "metadata": {},
   "outputs": [
    {
     "name": "stdout",
     "output_type": "stream",
     "text": [
      "Requirement already satisfied: pdfplumber in /home/ec2-user/anaconda3/envs/python3/lib/python3.10/site-packages (0.11.1)\n",
      "Requirement already satisfied: pdfminer.six==20231228 in /home/ec2-user/anaconda3/envs/python3/lib/python3.10/site-packages (from pdfplumber) (20231228)\n",
      "Requirement already satisfied: Pillow>=9.1 in /home/ec2-user/anaconda3/envs/python3/lib/python3.10/site-packages (from pdfplumber) (10.2.0)\n",
      "Requirement already satisfied: pypdfium2>=4.18.0 in /home/ec2-user/anaconda3/envs/python3/lib/python3.10/site-packages (from pdfplumber) (4.30.0)\n",
      "Requirement already satisfied: charset-normalizer>=2.0.0 in /home/ec2-user/anaconda3/envs/python3/lib/python3.10/site-packages (from pdfminer.six==20231228->pdfplumber) (3.3.2)\n",
      "Requirement already satisfied: cryptography>=36.0.0 in /home/ec2-user/anaconda3/envs/python3/lib/python3.10/site-packages (from pdfminer.six==20231228->pdfplumber) (42.0.5)\n",
      "Requirement already satisfied: cffi>=1.12 in /home/ec2-user/anaconda3/envs/python3/lib/python3.10/site-packages (from cryptography>=36.0.0->pdfminer.six==20231228->pdfplumber) (1.16.0)\n",
      "Requirement already satisfied: pycparser in /home/ec2-user/anaconda3/envs/python3/lib/python3.10/site-packages (from cffi>=1.12->cryptography>=36.0.0->pdfminer.six==20231228->pdfplumber) (2.21)\n"
     ]
    }
   ],
   "source": [
    "!pip install pdfplumber"
   ]
  },
  {
   "cell_type": "markdown",
   "id": "59604d76",
   "metadata": {},
   "source": [
    "## 2. Bedrock 설정 및 호출 함수 정의"
   ]
  },
  {
   "cell_type": "code",
   "execution_count": 2,
   "id": "44475a10",
   "metadata": {},
   "outputs": [],
   "source": [
    "import json\n",
    "import boto3\n",
    "from pprint import pprint\n",
    "\n",
    "# Bedrock runtime 생성\n",
    "bedrock_runtime = boto3.client(\n",
    "    service_name=\"bedrock-runtime\"\n",
    ")"
   ]
  },
  {
   "cell_type": "code",
   "execution_count": 3,
   "id": "eeeca58b",
   "metadata": {},
   "outputs": [],
   "source": [
    "def invoke_bedrock(\n",
    "    query: str,\n",
    "    model_id: str = \"anthropic.claude-3-sonnet-20240229-v1:0\",\n",
    "    max_tokens: int = 4096,\n",
    "    temperature: float = 1.0,\n",
    "    top_p: float = 1.0,\n",
    "    top_k: int = 250,\n",
    ") -> str:\n",
    "\n",
    "    # Request body 작성\n",
    "    request_data = {\n",
    "        \"anthropic_version\": \"bedrock-2023-05-31\",\n",
    "        \"max_tokens\": max_tokens,\n",
    "        \"temperature\": temperature,\n",
    "        \"top_p\": top_p,\n",
    "        \"top_k\": top_k,\n",
    "        \"messages\": [\n",
    "            {\n",
    "                \"role\": \"user\",\n",
    "                \"content\": [\n",
    "                    {\"type\": \"text\", \"text\": query},\n",
    "                ],\n",
    "            }\n",
    "        ],\n",
    "    }\n",
    "    request_body = json.dumps(request_data)\n",
    "\n",
    "    # 모델 호출\n",
    "    response = bedrock_runtime.invoke_model(\n",
    "        body=request_body,\n",
    "        modelId=model_id,\n",
    "        contentType=\"application/json\",\n",
    "        accept=\"application/json\"\n",
    "    )\n",
    "\n",
    "    response_body = json.loads(response['body'].read())\n",
    "    answer = response_body['content'][0]['text']\n",
    "    return answer"
   ]
  },
  {
   "cell_type": "code",
   "execution_count": 4,
   "id": "2c384347",
   "metadata": {},
   "outputs": [
    {
     "name": "stdout",
     "output_type": "stream",
     "text": [
      "네, 무역실무 퀴즈 하나 내겠습니다.\n",
      "\n",
      "문제: 수출신용장거래에서 수출자가 선적서류를 매입은행에 제출하면, 매입은행은 수출대금을 어떤 방식으로 지급하나요?\n",
      "\n",
      "1) 현금으로 지급한다.\n",
      "2) 수출자의 계좌로 송금한다. \n",
      "3) 환어음을 발행하여 지급한다.\n",
      "4) 수표를 발행하여 지급한다.\n",
      "\n",
      "정답: 2) 수출자의 계좌로 송금한다.\n",
      "\n",
      "수출신용장거래에서 수출자가 선적서류를 매입은행에 제출하면, 매입은행은 수출대금을 수출자의 계좌로 송금하는 방식으로 지급합니다.\n"
     ]
    }
   ],
   "source": [
    "result = invoke_bedrock(query=\"무역실무에 대한 퀴즈 한 개 만들고, 정답도 알려줘\")\n",
    "print(result)"
   ]
  },
  {
   "cell_type": "markdown",
   "id": "6ca25239",
   "metadata": {},
   "source": [
    "## 3. PDF 문서 읽는 함수 정의¶"
   ]
  },
  {
   "cell_type": "code",
   "execution_count": 5,
   "id": "65359151",
   "metadata": {},
   "outputs": [],
   "source": [
    "import pdfplumber\n",
    "\n",
    "def get_texts_from_pdf(filepath: str, start_page:int, page_number:int):\n",
    "    with pdfplumber.open(filepath) as pdf:\n",
    "        number_of_pages = len(pdf.pages)\n",
    "        end_page = start_page + page_number\n",
    "        if end_page > number_of_pages:\n",
    "            end_page = number_of_pages\n",
    "            \n",
    "        contents = \"\"\n",
    "        for i in range(start_page, end_page):\n",
    "            page = pdf.pages[i]\n",
    "            contents += page.extract_text()\n",
    "            contents += \"\\n\\n\"\n",
    "        return contents"
   ]
  },
  {
   "cell_type": "code",
   "execution_count": 6,
   "id": "203462ac",
   "metadata": {},
   "outputs": [
    {
     "name": "stdout",
     "output_type": "stream",
     "text": [
      "2023\n",
      "개정판\n",
      "# 알기쉬운\n",
      "무역\n",
      "실무\n",
      "길 잡이\n",
      "라\n",
      "\n",
      "\n"
     ]
    }
   ],
   "source": [
    "contents = get_texts_from_pdf(filepath=\"0412통합본-알기_쉬운_무역실무_길라잡이.pdf\", start_page=0, page_number=1)\n",
    "print(contents)"
   ]
  },
  {
   "cell_type": "markdown",
   "id": "5ae8e30e",
   "metadata": {},
   "source": [
    "## 5. (Optional) 문제 만들기"
   ]
  },
  {
   "cell_type": "code",
   "execution_count": 12,
   "id": "83257ace",
   "metadata": {},
   "outputs": [
    {
     "name": "stdout",
     "output_type": "stream",
     "text": [
      "1. 무역업 창업을 위해서는 먼저 업종을 선정한 후 사업계획을 수립해야 합니다. 다음 중 사업계획 수립 단계에서 검토해야 할 사항이 아닌 것은?\n",
      "\n",
      "가. 시장 타당성 조사\n",
      "나. 업종 선정\n",
      "다. 법인 설립 등기\n",
      "라. 사업 인·허가 취득\n",
      "\n",
      "2. 창업사업계획 승인제도에 대한 설명으로 옳지 않은 것은?\n",
      "\n",
      "가. 창업일로부터 7년이 경과하지 않은 중소기업자가 대상입니다.\n",
      "나. 공장설립 관련 29개 법률에 의한 53개 인·허가 사항을 일괄 처리합니다.\n",
      "다. 사업계획승인신청서 작성 및 제출을 대행해 주는 서비스가 있습니다.\n",
      "라. 사업계획승인신청 후 10일 이내에 승인 여부를 결정합니다.\n",
      "\n",
      "3. 중소기업 창업의 범위에 대한 설명으로 옳지 않은 것은?\n",
      "\n",
      "가. 숙박 및 음식점업 중 상시근로자 20인 이상의 법인인 음식점은 창업지원 대상에서 제외됩니다.\n",
      "나. 타인의 기업을 승계하여 승계 전과 동일한 기업인 경우는 창업으로 보지 않습니다.\n",
      "다. 법인전환 또는 기업형태를 변경하여 변경 전의 사업과 동종의 사업인 경우는 창업으로 봅니다.\n",
      "라. 폐업 후 사업을 개시하여 폐업 전의 사업과 동종의 사업을 계속하는 경우는 창업으로 보지 않습니다.\n",
      "\n",
      "4. 창업중소기업과 창업벤처기업에 대한 세제지원 내용으로 옳은 것은?\n",
      "\n",
      "가. 창업 후 소득발생 연도부터 3년간 매년 납부할 법인세의 50%를 감면받습니다.\n",
      "나. 창업벤처기업이 창업일로부터 2년 이내에 취득한 사업용 재산에 대해 취득세를 면제받습니다.\n",
      "다. 창업벤처기업이 소유하는 사업용 재산에 대해 창업일로부터 3년간 재산세를 50% 감면받습니다.\n",
      "라. 창업자가 창업일로부터 2년 이내에 금융기관으로부터 융자를 받기 위해 작성하는 문서에 대한 인지세를 면제받습니다.\n",
      "\n",
      "5. 중소기업 창업자금 지원과 관련된 기관으로 옳지 않은 것은?\n",
      "\n",
      "가. 지방자치단체\n",
      "나. 중소벤처기업진흥공단\n",
      "다. 한국발명진흥회\n",
      "라. 국민연금공단\n",
      "\n",
      "정답: 1. 다, 2. 라, 3. 다, 4. 나, 5. 라\n"
     ]
    }
   ],
   "source": [
    "content = get_texts_from_pdf(filepath=\"0412통합본-알기_쉬운_무역실무_길라잡이.pdf\", start_page=5, page_number=4)\n",
    "prompt = f\"\"\"\n",
    "\n",
    "당신은 PDF 문서에서 무역 실무에 대한 퀴즈를 만드는 AI 입니다.\n",
    "주어진 <content> 안의 문서 내용을 이해했는지 확인하기 위한 퀴즈 5개를 만드세요.\n",
    "각 퀴즈는 4개의 보기중 정답 하나를 고르는 문제입니다.\n",
    "\n",
    "<content>\n",
    "{content}\n",
    "</content>\n",
    "\n",
    "정답은 맨 아래 생성한 퀴즈의 정답을 작성합니다.\n",
    "\"\"\"\n",
    "result = invoke_bedrock(query=prompt, temperature=0, top_p=0)\n",
    "print(result)"
   ]
  },
  {
   "cell_type": "markdown",
   "id": "3048d2b5",
   "metadata": {},
   "source": [
    "## 6. 사용자 이해도 분석하기"
   ]
  },
  {
   "cell_type": "code",
   "execution_count": 16,
   "id": "a11cf2df",
   "metadata": {},
   "outputs": [
    {
     "name": "stdout",
     "output_type": "stream",
     "text": [
      "<quiz>\n",
      "사용자님의 답변을 검토해보겠습니다.\n",
      "\n",
      "잘 이해하고 있는 부분:\n",
      "1번 문제 - 법인 설립 등기는 사업계획 수립 단계가 아닌 것을 정확히 알고 계십니다.\n",
      "2번 문제 - 창업사업계획 승인제도에서 승인 여부 결정 기간이 10일 이내가 아님을 알고 계십니다. \n",
      "3번 문제 - 법인전환 또는 기업형태 변경 시 동종 사업일 경우 창업으로 보지 않는다는 것을 잘 이해하고 계십니다.\n",
      "\n",
      "잘 이해하고 있지 않은 부분:\n",
      "4번 문제 - 창업중소기업에 대한 법인세 감면 혜택을 잘못 알고 계셨습니다. 정답은 창업일로부터 3년간 법인세의 50%를 감면받는다는 것입니다.\n",
      "5번 문제 - 중소기업 창업자금 지원기관으로 국민연금공단이 아닌 지방자치단체, 중소벤처기업진흥공단 등이 해당됩니다.\n",
      "\n",
      "따라서 세제지원 혜택과 창업자금 지원기관에 대한 부분을 다시 한번 확인하고 이해할 필요가 있습니다. 전반적으로는 무역 창업 관련 기본 지식을 잘 갖추고 계신 것 같습니다.\n",
      "</quiz>\n"
     ]
    }
   ],
   "source": [
    "quiz = result\n",
    "my_answer = \"1. 다, 2.라 3. 다. 4. 가 5. 가\" #4번(세제지원)과 5번(창업자금 지원) 에 대한 답변이 틀림\n",
    "my_answer_prompt = f\"\"\"\n",
    "\n",
    "당신은 사용자에 대한 무역 퀴즈의 이해도를 판단하는 AI 입니다\n",
    "<quiz> 태그 안에 AI가 생성한 문제와 정답이 있습니다.\n",
    "그리고 사용자가 생각한 답변은 <my answer> 태그 안에 있습니다.\n",
    "\n",
    "<quiz>\n",
    "{quiz}\n",
    "</quiz>\n",
    "\n",
    "<my answer>\n",
    "{my_answer}\n",
    "</my answer>\n",
    "\n",
    "사용자의 답변과 실제 답변을 비교해서 사용자가 잘 이해하고 있는 부분과 잘 이해하고 있지 않은 부분을 나눠서 설명해주세요.\n",
    "\n",
    "\"\"\"\n",
    "user_analysis = invoke_bedrock(query=my_answer_prompt, temperature=0, top_p=0)\n",
    "print(user_analysis)"
   ]
  },
  {
   "cell_type": "markdown",
   "id": "4e405004",
   "metadata": {},
   "source": [
    "## 7. 사용자에 맞는 문제 내기"
   ]
  },
  {
   "cell_type": "code",
   "execution_count": null,
   "id": "8934469f",
   "metadata": {},
   "outputs": [],
   "source": [
    "content = get_texts_from_pdf(filepath=\"0412통합본-알기_쉬운_무역실무_길라잡이.pdf\", start_page=5, page_number=4)\n",
    "new_quiz_prompt = f\"\"\"\n",
    "\n",
    "당신은 사용자의 무역 실무에 대한 이해도를 기반으로 PDF 에서 새로운 퀴즈를 만드는 AI 입니다.\n",
    "<quiz> 태그 안에 AI가 생성한 문제와 정답이 있습니다.\n",
    "그리고 각 문제에 대한 사용자의 이해도는 <user analysis> 태그 안에 있습니다.\n",
    "\n",
    "<quiz>\n",
    "{quiz}\n",
    "</quiz>\n",
    "\n",
    "<user analysis>\n",
    "{user_analysis}\n",
    "</user analysis>\n",
    "\n",
    "위에 있는 퀴즈와 사용자의 이해도에 따른 정보를 참고해서\n",
    "주어진 <content> 안의 문서에서 사용자가 틀린 문제에 대해서 이해도를 높히기 위한 퀴즈 3개를 만드세요.\n",
    "\n",
    "<content>\n",
    "{content}\n",
    "</content>\n",
    "\n",
    "정답은 맨 아래 생성한 퀴즈의 정답을 작성합니다.\n",
    "\n",
    "\"\"\"\n",
    "new_quiz = invoke_bedrock(query=new_quiz_prompt, temperature=0, top_p=0)\n",
    "print(new_quiz)"
   ]
  },
  {
   "cell_type": "code",
   "execution_count": null,
   "id": "0624d9f6",
   "metadata": {},
   "outputs": [],
   "source": []
  }
 ],
 "metadata": {
  "kernelspec": {
   "display_name": "conda_python3",
   "language": "python",
   "name": "conda_python3"
  },
  "language_info": {
   "codemirror_mode": {
    "name": "ipython",
    "version": 3
   },
   "file_extension": ".py",
   "mimetype": "text/x-python",
   "name": "python",
   "nbconvert_exporter": "python",
   "pygments_lexer": "ipython3",
   "version": "3.10.14"
  }
 },
 "nbformat": 4,
 "nbformat_minor": 5
}
