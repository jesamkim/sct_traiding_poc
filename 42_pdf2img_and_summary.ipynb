{
 "cells": [
  {
   "cell_type": "markdown",
   "id": "47627d64-1c45-4339-bac9-cf545cffa96f",
   "metadata": {},
   "source": [
    "# PDF 문서를 image로 변환 후 요약하는 샘플 코드 (2)"
   ]
  },
  {
   "cell_type": "code",
   "execution_count": 1,
   "id": "fc0bba82-6d6d-4f62-b958-7f7db81590ba",
   "metadata": {},
   "outputs": [
    {
     "name": "stdout",
     "output_type": "stream",
     "text": [
      "Requirement already satisfied: PyMuPDF in /opt/conda/lib/python3.10/site-packages (1.24.7)\n",
      "Requirement already satisfied: Pillow in /opt/conda/lib/python3.10/site-packages (10.3.0)\n",
      "Requirement already satisfied: boto3 in /opt/conda/lib/python3.10/site-packages (1.34.141)\n",
      "Requirement already satisfied: PyMuPDFb==1.24.6 in /opt/conda/lib/python3.10/site-packages (from PyMuPDF) (1.24.6)\n",
      "Requirement already satisfied: botocore<1.35.0,>=1.34.141 in /opt/conda/lib/python3.10/site-packages (from boto3) (1.34.141)\n",
      "Requirement already satisfied: jmespath<2.0.0,>=0.7.1 in /opt/conda/lib/python3.10/site-packages (from boto3) (1.0.1)\n",
      "Requirement already satisfied: s3transfer<0.11.0,>=0.10.0 in /opt/conda/lib/python3.10/site-packages (from boto3) (0.10.2)\n",
      "Requirement already satisfied: python-dateutil<3.0.0,>=2.1 in /opt/conda/lib/python3.10/site-packages (from botocore<1.35.0,>=1.34.141->boto3) (2.9.0)\n",
      "Requirement already satisfied: urllib3!=2.2.0,<3,>=1.25.4 in /opt/conda/lib/python3.10/site-packages (from botocore<1.35.0,>=1.34.141->boto3) (1.26.19)\n",
      "Requirement already satisfied: six>=1.5 in /opt/conda/lib/python3.10/site-packages (from python-dateutil<3.0.0,>=2.1->botocore<1.35.0,>=1.34.141->boto3) (1.16.0)\n"
     ]
    }
   ],
   "source": [
    "!pip install PyMuPDF Pillow boto3"
   ]
  },
  {
   "cell_type": "code",
   "execution_count": 2,
   "id": "3d901e5d-5dd6-4660-8a2f-35dd6031047d",
   "metadata": {},
   "outputs": [],
   "source": [
    "# 앞서 이미지 방식으로 추출한 내용 로딩\n",
    "%store -r img_context"
   ]
  },
  {
   "cell_type": "code",
   "execution_count": 3,
   "id": "d92cac37-0f25-4d93-b09d-5ff9aa9d7694",
   "metadata": {},
   "outputs": [],
   "source": [
    "#img_context"
   ]
  },
  {
   "cell_type": "markdown",
   "id": "421d6560-d4f3-42f3-9455-0a404408463c",
   "metadata": {},
   "source": [
    "## 1. 매서드 작성"
   ]
  },
  {
   "cell_type": "code",
   "execution_count": 4,
   "id": "514eaf33-2265-4ac2-ab8f-ba179c80b590",
   "metadata": {},
   "outputs": [],
   "source": [
    "import fitz  # PyMuPDF\n",
    "import boto3\n",
    "import json\n",
    "import time\n",
    "from botocore.exceptions import ClientError"
   ]
  },
  {
   "cell_type": "code",
   "execution_count": 5,
   "id": "1c480be3-f6f3-4f75-8f68-7d2098118303",
   "metadata": {},
   "outputs": [],
   "source": [
    "# 1. PDF 파싱\n",
    "def parse_pdf(file_path):\n",
    "    doc = fitz.open(file_path)\n",
    "    text = \"\"\n",
    "    for page in doc:\n",
    "        text += page.get_text()\n",
    "    return text"
   ]
  },
  {
   "cell_type": "code",
   "execution_count": 6,
   "id": "73041a34-d767-4f55-950d-49b1272c467c",
   "metadata": {},
   "outputs": [],
   "source": [
    "# 2. Amazon Bedrock 클라이언트 설정\n",
    "bedrock = boto3.client(\n",
    "    service_name='bedrock-runtime',\n",
    "    region_name='us-east-1'  # 예: 'us-east-1'\n",
    ")"
   ]
  },
  {
   "cell_type": "code",
   "execution_count": 9,
   "id": "5d47e485-8615-4299-aa2f-54059178368c",
   "metadata": {},
   "outputs": [],
   "source": [
    "# 3. Claude 모델에 이미지 전송 및 응답 받기\n",
    "def summarize_with_claude(text):\n",
    "    \n",
    "    prompt = f\"\"\"\n",
    "    다음 <instruction></instructon>에 따라 <full_contents>{text}</full_contents> 문서를 요약해주세요.\n",
    "    <instruction>\n",
    "    1. 문서의 목차 구성은 <context>{img_context}</context> 내용을 참조하세요.\n",
    "    2. 문서를 목차(Content, Agenda 등) 별로 구분하여 문서 내용을 최대한 자세히 적어주세요. 중요 정보나 객관적 데이터를 누락하지 말고 반드시 포함하세요.\n",
    "    </instruction>\n",
    "    \"\"\"\n",
    "    \n",
    "    body = {\n",
    "        \"anthropic_version\": \"bedrock-2023-05-31\",\n",
    "        \"max_tokens\": 4096,\n",
    "        \"temperature\": 0,\n",
    "        \"top_p\": 0,\n",
    "        \"top_k\": 0,\n",
    "        \"messages\": [\n",
    "            {\n",
    "                \"role\": \"user\",\n",
    "                \"content\": [\n",
    "                    {\n",
    "                        \"type\": \"text\",\n",
    "                        \"text\": prompt\n",
    "                    }\n",
    "                ]\n",
    "            }\n",
    "        ]\n",
    "    }\n",
    "\n",
    "    #테스트 환경에 Claude 3.5 사용이 불가합니다. 고객 분들은 아래 modelId를 Claude 3.5 Sonnet 으로 변경해주세요.\n",
    "    response = bedrock.invoke_model(\n",
    "        body=json.dumps(body),\n",
    "        #modelId = \"anthropic.claude-3-5-sonnet-20240620-v1:0\"  # Claude 3.5 Sonnet\n",
    "        modelId=\"anthropic.claude-3-sonnet-20240229-v1:0\",      # Claude 3 Sonnet\n",
    "        contentType=\"application/json\",\n",
    "        accept=\"application/json\"\n",
    "    )\n",
    "\n",
    "    response_body = json.loads(response['body'].read())\n",
    "    return response_body['content'][0]['text']"
   ]
  },
  {
   "cell_type": "markdown",
   "id": "a75b36be-8881-42e7-b56a-52a183e75838",
   "metadata": {},
   "source": [
    "## 2. Claude 3.x 모델 호출하여 소제목 별 요약 수행\n",
    "\n",
    "#### Claude 3.5 Sonnet 의 이미지 분석 성능이 더 뛰어납니다. 아래 결과는 Claude 3 Sonnet 결과 입니다,"
   ]
  },
  {
   "cell_type": "code",
   "execution_count": 10,
   "id": "b9b601bc-c857-40dc-a02f-b06dbcb8de05",
   "metadata": {},
   "outputs": [
    {
     "name": "stdout",
     "output_type": "stream",
     "text": [
      "요약 결과:\n",
      "이 문서는 SBB Daily Briefing의 2024년 7월 4일자 보고서로, 주요 내용은 다음과 같습니다:\n",
      "\n",
      "Price snapshot\n",
      "- 다양한 철강 제품의 심볼, 단위, 가격, 변동, 변동률, 평가일자가 테이블 형식으로 제시되어 있음\n",
      "\n",
      "Contents\n",
      "Asia\n",
      "Flat Products\n",
      "- Asian HRC 시장 동향 정체, 구매 관심 부족\n",
      "- 중국 수출 오퍼 $520/mt FOB, 바이어 입찰가 $510/mt FOB 수준\n",
      "- 일본, 한국 HRC 가격 경쟁력 상승\n",
      "\n",
      "Indian rebar prices dip as mills lower offers in quiet market; HRC stable  \n",
      "- 인도 HRC 밀 오퍼 경쟁력 있는 수준\n",
      "- 인도 리바 입찰가 하락\n",
      "\n",
      "Long Products  \n",
      "- 아시아 빌렛 오퍼가 상승\n",
      "- 아시아 시바운드 리바 가격 상승 \n",
      "- 중국 국내 빌렛 가격 횡보\n",
      "\n",
      "EMEA  \n",
      "Flat Products\n",
      "- 유럽 HRC 가격 하락 전망 부재로 보합 유지 예상  \n",
      "- 9월까지 수요 부진 지속 전망\n",
      "- 수입 HRC에 대한 관심 낮음\n",
      "\n",
      "Long Products\n",
      "- 터키 수출 리바 가격 박스권 등락\n",
      "- 수출 시장 수요 약세\n",
      "- 터키 리바 $577.5/mt FOB 평가(전일 대비 +$2.5)  \n",
      "\n",
      "Raw Materials and Scrap\n",
      "- 터키 국내 수입 스크랩 가격 보합 유지\n",
      "- 단기 가격 전망 횡보\n",
      "- 유럽 공급업체 오퍼 보합  \n",
      "\n",
      "CIS\n",
      "Long Products  \n",
      "- 터키 빌렛 시장 경색, 중국산 오퍼가 바이어 타겟가와 근접\n",
      "- 중국산 $515-518/mt CFR 터키 오퍼 vs 바이어 최고 $515/mt CFR 목표가\n",
      "\n",
      "Americas\n",
      "Industry news\n",
      "- 중국 철강 시장 전망 부진, 경기부양책 기대에도 불구\n",
      "- 부동산, 자동차 등 주요 수요처 수요 약세 지속 예상  \n",
      "- 정부 경기부양책 효과는 제한적일 것으로 예상\n",
      "\n",
      "- Tata Steel UK, 포트탤벗 제철소 5번 용광로 가동 중단\n",
      "- 터키 5월 HRC 수출량 전년비 2배 증가한 249,000mt \n",
      "- 바오스틸, 상하이에 신규 연주기 건설 계약\n",
      "- 영국 상반기 신차 등록 2019년 이후 최고치 \n",
      "- 독일 6월 전기차 판매 전년비 14.7% 감소\n",
      "- 브라질 상반기 전기차 판매 전년비 146% 증가\n",
      "\n",
      "- Snam, 이탈리아 파이프 생산에 수소 버너 테스트 진행\n",
      "\n",
      "Assessment rationales\n",
      "- 터키 철근, 스크랩, 빌렛 등 제품 가격 평가 근거 제시  \n",
      "\n",
      "Subscriber Notes  \n",
      "- 유럽 HRC 탄소계정 가격 정정\n",
      "- 미국 중서부 스크랩 가격 범위 제거 \n",
      "- 미국 독립기념일 휴무 관련 발행 일정 안내\n",
      "\n",
      "문서에는 아시아, 유럽, 중동, 아프리카, 아메리카 지역의 철강 및 원자재 가격 동향과 관련 업계 뉴스, 시장 참가자 의견, 객관적 데이터와 통계 등이 상세히 수록되어 있습니다.\n",
      "CPU times: user 47.2 ms, sys: 3.72 ms, total: 50.9 ms\n",
      "Wall time: 44.6 s\n"
     ]
    }
   ],
   "source": [
    "%%time\n",
    "\n",
    "pdf_path = \"./rag_data/Steel Business Briefing_04 Jul 2024.pdf\"\n",
    "\n",
    "# 1. PDF 파싱\n",
    "parsed_text = parse_pdf(pdf_path)\n",
    "\n",
    "# 2. Claude 3 Sonnet을 이용한 요약\n",
    "summary = summarize_with_claude(parsed_text)\n",
    "\n",
    "# 3. 요약 결과 출력\n",
    "print(\"요약 결과:\")\n",
    "print(summary)"
   ]
  },
  {
   "cell_type": "code",
   "execution_count": null,
   "id": "09ae0e12-64e6-40e9-9dad-a6770a0308e0",
   "metadata": {},
   "outputs": [],
   "source": []
  }
 ],
 "metadata": {
  "kernelspec": {
   "display_name": "Python 3 (ipykernel)",
   "language": "python",
   "name": "python3"
  },
  "language_info": {
   "codemirror_mode": {
    "name": "ipython",
    "version": 3
   },
   "file_extension": ".py",
   "mimetype": "text/x-python",
   "name": "python",
   "nbconvert_exporter": "python",
   "pygments_lexer": "ipython3",
   "version": "3.10.14"
  }
 },
 "nbformat": 4,
 "nbformat_minor": 5
}
