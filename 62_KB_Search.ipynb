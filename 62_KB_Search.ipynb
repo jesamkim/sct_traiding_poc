{
 "cells": [
  {
   "cell_type": "markdown",
   "id": "73d381a2-3787-46cc-8aaf-ab0b9d9fd042",
   "metadata": {},
   "source": [
    "# Step 2. KB(Knowledge Base) 검색"
   ]
  },
  {
   "cell_type": "markdown",
   "id": "b3fe7756-c1c8-4630-a35a-0971b64b0fb0",
   "metadata": {},
   "source": [
    "### Setup"
   ]
  },
  {
   "cell_type": "code",
   "execution_count": null,
   "id": "5c798255-1f83-47e6-b668-be528e2fd83b",
   "metadata": {
    "tags": []
   },
   "outputs": [],
   "source": [
    "# 패키지 설치 후 Kernel Restart 를 수행하시고 다음 쉘로 진행하세요.\n",
    "\n",
    "%pip install --upgrade pip\n",
    "%pip install boto3 --force-reinstall --quiet\n",
    "%pip install botocore --force-reinstall --quiet\n",
    "%pip install sqlalchemy==2.0.0 --quiet\n",
    "%pip install langchain --force-reinstall --quiet"
   ]
  },
  {
   "cell_type": "markdown",
   "id": "a989ee22-215a-4ffd-872f-d6facb39cf37",
   "metadata": {},
   "source": [
    "### 사전에 생성한 KB 목록 확인\n",
    "\n",
    "* 사용하려는 KB의 ID 를 확인합니다."
   ]
  },
  {
   "cell_type": "code",
   "execution_count": null,
   "id": "e8b63d17-7dff-4ab9-8e58-6d0bfe1fdeb1",
   "metadata": {
    "tags": []
   },
   "outputs": [],
   "source": [
    "import boto3\n",
    "\n",
    "def list_knowledge_bases():\n",
    "    # Bedrock 클라이언트 생성\n",
    "    bedrock_agent = boto3.client('bedrock-agent')\n",
    "\n",
    "    # Knowledge Base 목록 가져오기\n",
    "    response = bedrock_agent.list_knowledge_bases(\n",
    "        maxResults=100  # 한 번에 가져올 최대 결과 수\n",
    "    )\n",
    "\n",
    "    # 결과 출력\n",
    "    if 'knowledgeBaseSummaries' in response:\n",
    "        print(\"Found Knowledge Bases:\")\n",
    "        for kb in response['knowledgeBaseSummaries']:\n",
    "            print(f\"- Name: {kb['name']}\")\n",
    "            print(f\"  ID: {kb['knowledgeBaseId']}\")\n",
    "            print(f\"  Description: {kb.get('description', 'N/A')}\")\n",
    "            print(f\"  Status: {kb['status']}\")\n",
    "            print(f\"  Last Updated: {kb['updatedAt']}\")\n",
    "            print(\"---\")\n",
    "    else:\n",
    "        print(\"No Knowledge Bases found.\")\n",
    "\n",
    "    # 페이지네이션 처리\n",
    "    while 'nextToken' in response:\n",
    "        response = bedrock_agent.list_knowledge_bases(\n",
    "            maxResults=100,\n",
    "            nextToken=response['nextToken']\n",
    "        )\n",
    "        \n",
    "        for kb in response['knowledgeBaseSummaries']:\n",
    "            print(f\"- Name: {kb['name']}\")\n",
    "            print(f\"  ID: {kb['knowledgeBaseId']}\")\n",
    "            print(f\"  Description: {kb.get('description', 'N/A')}\")\n",
    "            print(f\"  Status: {kb['status']}\")\n",
    "            print(f\"  Last Updated: {kb['updatedAt']}\")\n",
    "            print(\"---\")\n",
    "\n",
    "if __name__ == \"__main__\":\n",
    "    list_knowledge_bases()"
   ]
  },
  {
   "cell_type": "markdown",
   "id": "28f32e37-bd46-40cb-8ee3-d7b37d1614d3",
   "metadata": {},
   "source": [
    "### Bedrock Client 초기화"
   ]
  },
  {
   "cell_type": "code",
   "execution_count": null,
   "id": "ada3127a-74df-474b-a472-106dbd961af3",
   "metadata": {
    "tags": []
   },
   "outputs": [],
   "source": [
    "import boto3\n",
    "import pprint\n",
    "from botocore.client import Config\n",
    "import json\n",
    "\n",
    "pp = pprint.PrettyPrinter(indent=2)\n",
    "session = boto3.session.Session()\n",
    "region = session.region_name\n",
    "bedrock_config = Config(connect_timeout=120, read_timeout=120, retries={'max_attempts': 0})\n",
    "bedrock_client = boto3.client('bedrock-runtime', region_name = region)\n",
    "bedrock_agent_client = boto3.client(\"bedrock-agent-runtime\",\n",
    "                              config=bedrock_config, region_name = region)\n",
    "print(region)"
   ]
  },
  {
   "cell_type": "code",
   "execution_count": null,
   "id": "671f9472-cf13-4984-ab4f-8b15d9954024",
   "metadata": {
    "tags": []
   },
   "outputs": [],
   "source": [
    "# 사용자 쿼리\n",
    "\n",
    "query = \"\"\"\n",
    "철강 산업의 현황은 어떤가요?\n",
    "\"\"\""
   ]
  },
  {
   "cell_type": "markdown",
   "id": "32905e71-393e-4f77-a975-f528c72b87d0",
   "metadata": {},
   "source": [
    "### KB 리트리버 설정 (Hybrid Search)\n",
    "* 위에서 사용할 KB ID 를 확인하고 kb_id 에 수정하세요."
   ]
  },
  {
   "cell_type": "code",
   "execution_count": null,
   "id": "9c81125a-07e3-4ec9-b840-c4b123c8e214",
   "metadata": {
    "tags": []
   },
   "outputs": [],
   "source": [
    "# 위에서 KB ID를 확인하고 수정합니다.\n",
    "kb_id = \"JXGUVQQIK6\"\n",
    "\n",
    "# numberOfResults 는 RAG 검색에서 가져올 청크 갯수 입니다.\n",
    "def retrieve(query, kbId, numberOfResults=10):\n",
    "    return bedrock_agent_client.retrieve(\n",
    "        retrievalQuery= {\n",
    "            'text': query\n",
    "        },\n",
    "        knowledgeBaseId=kbId,\n",
    "        retrievalConfiguration= {\n",
    "            'vectorSearchConfiguration': {\n",
    "                'numberOfResults': numberOfResults,\n",
    "                'overrideSearchType': \"HYBRID\", # optional\n",
    "            }\n",
    "        }\n",
    "    )\n",
    "\n",
    "# fetch context from the response\n",
    "def get_contexts(retrievalResults):\n",
    "    contexts = []\n",
    "    for retrievedResult in retrievalResults: \n",
    "        contexts.append(retrievedResult['content']['text'])\n",
    "    return contexts\n",
    "\n",
    "response = retrieve(query, kb_id, 10)\n",
    "retrievalResults = response['retrievalResults']\n",
    "contexts = get_contexts(retrievalResults)\n",
    "\n",
    "#pp.pprint(contexts)"
   ]
  },
  {
   "cell_type": "code",
   "execution_count": null,
   "id": "112d2595-bd86-4f9f-9fc5-57c931dfe001",
   "metadata": {
    "tags": []
   },
   "outputs": [],
   "source": [
    "# 프롬프트 템플릿\n",
    "\n",
    "prompt = f\"\"\"\n",
    "Human: You are an advisor AI system, and provides answers to questions by using fact based when possible. \n",
    "Use the following pieces of information to provide a detail answer to the question enclosed in <question> tags. \n",
    "If you don't know the answer, just say that you don't know, don't try to make up an answer.\n",
    "<context>\n",
    "{contexts}\n",
    "</context>\n",
    "\n",
    "<question>\n",
    "{query}\n",
    "</question>\n",
    "\n",
    "The response should be specific and use statistics or numbers when possible.\n",
    "\n",
    "Assistant:\"\"\""
   ]
  },
  {
   "cell_type": "markdown",
   "id": "a38e12d9-8bba-4477-8579-4a15baa98541",
   "metadata": {},
   "source": [
    "### Amazon Bedrock에서 Claude 3 모델 호출"
   ]
  },
  {
   "cell_type": "code",
   "execution_count": null,
   "id": "a736981b-6f71-42c7-88cc-6354ec084b07",
   "metadata": {
    "tags": []
   },
   "outputs": [],
   "source": [
    "# payload with model paramters\n",
    "messages=[{ \"role\":'user', \"content\":[{'type':'text','text': prompt.format(contexts, query)}]}]\n",
    "sonnet_payload = json.dumps({\n",
    "    \"anthropic_version\": \"bedrock-2023-05-31\",\n",
    "    \"max_tokens\": 4096,\n",
    "    \"messages\": messages,\n",
    "    \"temperature\": 0.0,\n",
    "    \"top_p\": 0\n",
    "        }  )\n",
    "\n",
    "#modelId = \"anthropic.claude-3-5-sonnet-20240620-v1:0\"  # Claude 3.5 Sonnet\n",
    "modelId = 'anthropic.claude-3-sonnet-20240229-v1:0' # Claude 3 Sonnet\n",
    "accept = 'application/json'\n",
    "contentType = 'application/json'\n",
    "response = bedrock_client.invoke_model(body=sonnet_payload, modelId=modelId, accept=accept, contentType=contentType)\n",
    "response_body = json.loads(response.get('body').read())\n",
    "response_text = response_body.get('content')[0]['text']\n",
    "\n",
    "#pp.pprint(response_text)\n",
    "\n",
    "print(response_text)"
   ]
  },
  {
   "cell_type": "markdown",
   "id": "ed9c34df-fa57-4bac-b03c-76871a8664ae",
   "metadata": {},
   "source": [
    "---"
   ]
  },
  {
   "cell_type": "markdown",
   "id": "6142f6f5-bab5-4b73-9202-41fcd27d7ed1",
   "metadata": {},
   "source": [
    "---"
   ]
  },
  {
   "cell_type": "markdown",
   "id": "43ba0249-b2dd-4a2d-a920-d7aefa44e7a7",
   "metadata": {},
   "source": [
    "## LangChain 으로 구현"
   ]
  },
  {
   "cell_type": "code",
   "execution_count": null,
   "id": "08c4d1e4-20e9-4008-91a0-3f1c1b10833e",
   "metadata": {
    "tags": []
   },
   "outputs": [],
   "source": [
    "%pip install --upgrade pip\n",
    "%pip install boto3 --force-reinstall --quiet\n",
    "%pip install botocore --force-reinstall --quiet\n",
    "%pip install sqlalchemy==2.0.0 --quiet\n",
    "%pip install langchain --force-reinstall --quiet\n",
    "!pip install langchain_aws langchain-community -U"
   ]
  },
  {
   "cell_type": "code",
   "execution_count": null,
   "id": "c445a2ff-e8c6-4560-b25e-6d3777f4c6e6",
   "metadata": {},
   "outputs": [],
   "source": [
    "import boto3\n",
    "import pprint\n",
    "from botocore.client import Config\n",
    "import json\n",
    "\n",
    "pp = pprint.PrettyPrinter(indent=2)\n",
    "session = boto3.session.Session()\n",
    "region = session.region_name\n",
    "bedrock_config = Config(connect_timeout=120, read_timeout=120, retries={'max_attempts': 0})\n",
    "bedrock_client = boto3.client('bedrock-runtime', region_name = region)\n",
    "bedrock_agent_client = boto3.client(\"bedrock-agent-runtime\",\n",
    "                              config=bedrock_config, region_name = region)\n",
    "print(region)"
   ]
  },
  {
   "cell_type": "code",
   "execution_count": null,
   "id": "3829fa68-d9fc-4f03-b995-2ec47b685dbe",
   "metadata": {
    "tags": []
   },
   "outputs": [],
   "source": [
    "# from langchain.llms.bedrock import Bedrock\n",
    "import langchain\n",
    "from langchain_aws import ChatBedrock\n",
    "from langchain.retrievers.bedrock import AmazonKnowledgeBasesRetriever\n",
    "\n",
    "#modelId = \"anthropic.claude-3-5-sonnet-20240620-v1:0\"  # Claude 3.5 Sonnet\n",
    "modelId = 'anthropic.claude-3-sonnet-20240229-v1:0' # Claude 3 Sonnet\n",
    "\n",
    "llm = ChatBedrock(model_id=modelId, \n",
    "                  client=bedrock_client)"
   ]
  },
  {
   "cell_type": "code",
   "execution_count": null,
   "id": "9e403934-79f3-4992-a0b4-4019566c5b08",
   "metadata": {
    "tags": []
   },
   "outputs": [],
   "source": [
    "# 사용자 쿼리\n",
    "query = \"\"\"\n",
    "철강 산업의 현황은 어떤가요?\n",
    "\"\"\"\n",
    "\n",
    "# KB에서 관련 내용 검색\n",
    "retriever = AmazonKnowledgeBasesRetriever(\n",
    "        knowledge_base_id=kb_id,\n",
    "        retrieval_config={\"vectorSearchConfiguration\": \n",
    "                          {\"numberOfResults\": 10,\n",
    "                           'overrideSearchType': \"HYBRID\", # optional\n",
    "                           }\n",
    "                          },\n",
    "        # endpoint_url=endpoint_url,\n",
    "        # region_name=region,\n",
    "        # credentials_profile_name=\"<profile_name>\",\n",
    "    )\n",
    "docs = retriever.get_relevant_documents(\n",
    "        query=query\n",
    "    )\n",
    "\n",
    "#pp.pprint(docs)"
   ]
  },
  {
   "cell_type": "code",
   "execution_count": null,
   "id": "22c8072a-08d5-4076-a88f-9eee7559e877",
   "metadata": {
    "tags": []
   },
   "outputs": [],
   "source": [
    "from langchain.prompts import PromptTemplate\n",
    "\n",
    "# 프롬프트 템플릿\n",
    "PROMPT_TEMPLATE = \"\"\"\n",
    "Human: You are an advisor AI system, and provides answers to questions by using fact based when possible. \n",
    "Use the following pieces of information to provide a detail answer to the question enclosed in <question> tags. \n",
    "If you don't know the answer, just say that you don't know, don't try to make up an answer.\n",
    "<context>\n",
    "{context}\n",
    "</context>\n",
    "\n",
    "<question>\n",
    "{question}\n",
    "</question>\n",
    "\n",
    "The response should be specific and use statistics or numbers when possible.\n",
    "\n",
    "Assistant:\"\"\"\n",
    "claude_prompt = PromptTemplate(template=PROMPT_TEMPLATE, \n",
    "                               input_variables=[\"context\",\"question\"])"
   ]
  },
  {
   "cell_type": "code",
   "execution_count": null,
   "id": "ac9239f1-1e08-4ef1-ac46-384b621439c1",
   "metadata": {
    "tags": []
   },
   "outputs": [],
   "source": [
    "from langchain.chains import RetrievalQA\n",
    "\n",
    "qa = RetrievalQA.from_chain_type(\n",
    "    llm=llm,\n",
    "    chain_type=\"stuff\",\n",
    "    retriever=retriever,\n",
    "    return_source_documents=True,\n",
    "    chain_type_kwargs={\"prompt\": claude_prompt}\n",
    ")\n",
    "\n",
    "answer = qa.invoke(query)\n",
    "\n",
    "# 답변 출력\n",
    "print(\"답변:\")\n",
    "print(answer['result'])\n",
    "\n",
    "# 출처 문서 정보 출력\n",
    "print(\"\\n출처:\")\n",
    "for i, doc in enumerate(answer['source_documents'], 1):\n",
    "    print(f\"{i}. {doc.metadata['location']['s3Location']['uri']}\")"
   ]
  },
  {
   "cell_type": "code",
   "execution_count": null,
   "id": "d1cc7cb8-a4a2-4ddc-bb00-d86bd5dbc7e7",
   "metadata": {},
   "outputs": [],
   "source": []
  }
 ],
 "metadata": {
  "kernelspec": {
   "display_name": "Python 3 (ipykernel)",
   "language": "python",
   "name": "python3"
  },
  "language_info": {
   "codemirror_mode": {
    "name": "ipython",
    "version": 3
   },
   "file_extension": ".py",
   "mimetype": "text/x-python",
   "name": "python",
   "nbconvert_exporter": "python",
   "pygments_lexer": "ipython3",
   "version": "3.10.14"
  }
 },
 "nbformat": 4,
 "nbformat_minor": 5
}
