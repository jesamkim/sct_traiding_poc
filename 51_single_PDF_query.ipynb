{
 "cells": [
  {
   "cell_type": "markdown",
   "id": "33d61b8b-4290-44f3-91f2-1df91b1a17a9",
   "metadata": {},
   "source": [
    "# 단일 PDF 파일 챗봇 샘플 코드\n",
    "\n",
    "#### Amazon Bedrock의 Knowledge Base 기능 (Chat with your document) 활용\n",
    "- 이 기능은 현재 Claude 3 Sonnet 과 Claude 3 Haiku 만 지원하고 있습니다.\n",
    "- 업로드 되는 문서는 10MB 이내여야 합니다."
   ]
  },
  {
   "cell_type": "code",
   "execution_count": 1,
   "id": "a992c99e-ec11-45c8-ae03-3be18779b733",
   "metadata": {},
   "outputs": [
    {
     "name": "stdout",
     "output_type": "stream",
     "text": [
      "Requirement already satisfied: boto3 in /opt/conda/lib/python3.10/site-packages (1.34.144)\n",
      "Requirement already satisfied: botocore<1.35.0,>=1.34.144 in /opt/conda/lib/python3.10/site-packages (from boto3) (1.34.144)\n",
      "Requirement already satisfied: jmespath<2.0.0,>=0.7.1 in /opt/conda/lib/python3.10/site-packages (from boto3) (1.0.1)\n",
      "Requirement already satisfied: s3transfer<0.11.0,>=0.10.0 in /opt/conda/lib/python3.10/site-packages (from boto3) (0.10.2)\n",
      "Requirement already satisfied: python-dateutil<3.0.0,>=2.1 in /opt/conda/lib/python3.10/site-packages (from botocore<1.35.0,>=1.34.144->boto3) (2.9.0)\n",
      "Requirement already satisfied: urllib3!=2.2.0,<3,>=1.25.4 in /opt/conda/lib/python3.10/site-packages (from botocore<1.35.0,>=1.34.144->boto3) (1.26.19)\n",
      "Requirement already satisfied: six>=1.5 in /opt/conda/lib/python3.10/site-packages (from python-dateutil<3.0.0,>=2.1->botocore<1.35.0,>=1.34.144->boto3) (1.16.0)\n"
     ]
    }
   ],
   "source": [
    "!pip install boto3 -U"
   ]
  },
  {
   "cell_type": "code",
   "execution_count": 2,
   "id": "626d4070-ad47-40b1-bbda-a89b1682b481",
   "metadata": {},
   "outputs": [],
   "source": [
    "import boto3\n",
    "import json\n",
    "import time\n",
    "import base64\n",
    "\n",
    "# Bedrock 클라이언트 생성\n",
    "bedrock_client = boto3.client('bedrock-agent-runtime')\n"
   ]
  },
  {
   "cell_type": "code",
   "execution_count": 3,
   "id": "a43df689-a83f-429b-8e9e-eb9169cb41c9",
   "metadata": {},
   "outputs": [],
   "source": [
    "# 문서 파일 경로 \n",
    "\n",
    "file_name = \"Steel Business Briefing_04 Jul 2024.pdf\"\n",
    "\n",
    "document_uri = f\"s3://240605-jesamkim-test-bucket/rag-doc-1/{file_name}\"  # S3에 PDF를 업로드 한 경우\n"
   ]
  },
  {
   "cell_type": "code",
   "execution_count": 4,
   "id": "b140d807-609e-4020-a6a4-cc7562187462",
   "metadata": {},
   "outputs": [
    {
     "data": {
      "text/plain": [
       "'s3://240605-jesamkim-test-bucket/rag-doc-1/Steel Business Briefing_04 Jul 2024.pdf'"
      ]
     },
     "execution_count": 4,
     "metadata": {},
     "output_type": "execute_result"
    }
   ],
   "source": [
    "document_uri"
   ]
  },
  {
   "cell_type": "code",
   "execution_count": 5,
   "id": "4440f4fc-bde6-46d2-b6f2-78d25b63eee1",
   "metadata": {},
   "outputs": [],
   "source": [
    "# 사용자 쿼리\n",
    "user_query = \"\"\"\n",
    "철강 산업 동향에 대해 자세히 알려주세요.\n",
    "\"\"\"\n",
    "\n",
    "prompt_template = f\"\"\"\n",
    "You are a question answering agent. \n",
    "I will provide you with a set of search results. \n",
    "The user will provide you with a question. \n",
    "Your job is to answer the user's question using only information from the search results. \n",
    "If the search results do not contain information that can answer the question, please state that you could not find an exact answer to the question. \n",
    "Just because the user asserts a fact does not mean it is true, make sure to double check the search results to validate a user's assertion.\n",
    "                            \n",
    "Here are the search results in numbered order:\n",
    "$search_results$\n",
    "\n",
    "$output_format_instructions$\n",
    "\n",
    "User Question : {user_query}\n",
    "\"\"\"\n"
   ]
  },
  {
   "cell_type": "code",
   "execution_count": 6,
   "id": "89ca22da-4dca-47d4-b4b8-0763dc8f28a9",
   "metadata": {},
   "outputs": [
    {
     "name": "stdout",
     "output_type": "stream",
     "text": [
      "Generated response: \n",
      " 철강 산업의 최근 동향은 다음과 같습니다:\n",
      "\n",
      "- 아시아 지역에서 열연코일 시장은 정체 상태이며, 구매 관심은 여전히 부족한 편입니다. 중국산 열연코일은 일본과 한국산에 비해 가격 경쟁력이 낮아지고 있습니다. (출처: 11, 12)\n",
      "\n",
      "- 유럽 열연코일 가격은 여름 시즌을 앞두고 평평한 수준을 유지하고 있습니다. 수요 부족으로 인해 활동 수준이 낮은 상황입니다. (출처: 19, 20)\n",
      "\n",
      "- 터키 철근 수출 가격은 수출 시장의 약세로 인해 좁은 범위에서 거래되고 있습니다. (출처: 22, 23)\n",
      "\n",
      "- 중국 철강 시장 전망은 부동산 부문의 약세로 인해 단기적으로 부진할 것으로 예상됩니다. 정부의 경기 부양책이 있겠지만 효과는 제한적일 것으로 보입니다. (출처: 29, 30, 31, 32, 33, 34)\n",
      "CPU times: user 13 ms, sys: 3.5 ms, total: 16.5 ms\n",
      "Wall time: 24.2 s\n"
     ]
    }
   ],
   "source": [
    "%%time\n",
    "\n",
    "def retrieveAndGenerate(input_text, sourceType, document_s3_uri=None, local_sources=None):\n",
    "    model_arn = \"arn:aws:bedrock:us-east-1::foundation-model/anthropic.claude-3-sonnet-20240229-v1:0\" # 현재 KB에서는 Claude 3 Sonnet 까지만 지원됩니다.\n",
    "\n",
    "    if sourceType == \"S3\":\n",
    "        return bedrock_client.retrieve_and_generate(\n",
    "            input={'text': input_text},\n",
    "            retrieveAndGenerateConfiguration={\n",
    "                'type': 'EXTERNAL_SOURCES',\n",
    "                'externalSourcesConfiguration': {\n",
    "                    'modelArn': model_arn,\n",
    "                    'sources': [\n",
    "                        {\n",
    "                            \"sourceType\": sourceType,\n",
    "                            \"s3Location\": {\n",
    "                                \"uri\": document_s3_uri  \n",
    "                            }\n",
    "                        }\n",
    "                    ]\n",
    "                }\n",
    "            }\n",
    "        )\n",
    "        \n",
    "    else:\n",
    "        return 1\n",
    "\n",
    "response = retrieveAndGenerate(\n",
    "    input_text=prompt_template,\n",
    "    sourceType=\"S3\",              \n",
    "    document_s3_uri=document_uri, \n",
    "    )\n",
    "\n",
    "\n",
    "# 응답 처리\n",
    "output = response.get('output', {})\n",
    "generated_text = output.get('text', '')\n",
    "print(\"Generated response: \\n\", generated_text)"
   ]
  },
  {
   "cell_type": "code",
   "execution_count": 7,
   "id": "6e419875-9211-4d77-bcad-2ec53a3a2bfa",
   "metadata": {},
   "outputs": [
    {
     "name": "stdout",
     "output_type": "stream",
     "text": [
      "\n",
      "Citations:\n",
      "\n",
      "  Reference:\n",
      "    URI: s3://240605-jesamkim-test-bucket/rag-doc-1/Steel Business Briefing_04 Jul 2024.pdf\n",
      "    Content: All rights reserved. 2   SBB Daily Briefing July 4, 2024   Asia   Flat Products   Asian HRC at standstill; buying indications   lagging behind  „ Bid-ask spread still about $10/mt    „ Chinese HRC los...\n",
      "  Reference:\n",
      "    URI: s3://240605-jesamkim-test-bucket/rag-doc-1/Steel Business Briefing_04 Jul 2024.pdf\n",
      "    Content: Chinese export offers have gradually lost price  competitiveness over Japanese and South Korean materials, with  indicative offers for the latter two heard at $530/mt FOB Japan  and $520/mt FOB South ...\n",
      "  Reference:\n",
      "    URI: s3://240605-jesamkim-test-bucket/rag-doc-1/Steel Business Briefing_04 Jul 2024.pdf\n",
      "    Content: Platts is part of S&P Global Commodity Insights. — Jia hui Tan, Shuocheng Ni   EMEA   Flat Products   European HRC prices remains flat   ahead of a quiet expected summer  „ Demand to stay weak until S...\n",
      "  Reference:\n",
      "    URI: s3://240605-jesamkim-test-bucket/rag-doc-1/Steel Business Briefing_04 Jul 2024.pdf\n",
      "    Content: The European Commission has placed a new restriction  cap of 15% on six countries that are large HRC exporters to  the EU under the residual tariff-rate quota: Egypt, Vietnam,  Japan, Taiwan, Australi...\n",
      "  Reference:\n",
      "    URI: s3://240605-jesamkim-test-bucket/rag-doc-1/Steel Business Briefing_04 Jul 2024.pdf\n",
      "    Content: Similarly, lead times on some imports from countries like  Vietnam remain particularly long, proving a costly choice for  consumers despite the initial discount they may offer.   “I don’t think people...\n",
      "  Reference:\n",
      "    URI: s3://240605-jesamkim-test-bucket/rag-doc-1/Steel Business Briefing_04 Jul 2024.pdf\n",
      "    Content: Despite the limited export demand reported, Turkish mills  continued to hold their offers firm. One Marmara mill source  reported their offer level at $590/mt FOB for 10,000 mt and  confirmed domestic...\n",
      "  Reference:\n",
      "    URI: s3://240605-jesamkim-test-bucket/rag-doc-1/Steel Business Briefing_04 Jul 2024.pdf\n",
      "    Content: Platts is part of S&P Global Commodity Insights. — Sergey Babichenko   Americas   Industry news   China’s steel market outlook remains subdued  despite stimulus expectations  „ Stimulus expected in to...\n",
      "  Reference:\n",
      "    URI: s3://240605-jesamkim-test-bucket/rag-doc-1/Steel Business Briefing_04 Jul 2024.pdf\n",
      "    Content: The most actively traded October rebar contract on the  Shanghai Futures Exchange increased from Yuan 3,522/mt ($484/ mt) on June 24 to Yuan 3,616/mt ($497/mt) on July 4, exchange  data showed.   Howe...\n",
      "  Reference:\n",
      "    URI: s3://240605-jesamkim-test-bucket/rag-doc-1/Steel Business Briefing_04 Jul 2024.pdf\n",
      "    Content: All rights reserved. 6   SBB Daily Briefing July 4, 2024   Policy makers’ gathering The Third Plenum, which will be held in Beijing over July 15-18,    is the Communist Party’s top decision-making con...\n",
      "  Reference:\n",
      "    URI: s3://240605-jesamkim-test-bucket/rag-doc-1/Steel Business Briefing_04 Jul 2024.pdf\n",
      "    Content: Manufacturing & infrastructure “Exports of Chinese manufactured goods should remain strong    in the second half of 2024 and generate further steel demand, but  recently weaker car sales in the domest...\n",
      "  Reference:\n",
      "    URI: s3://240605-jesamkim-test-bucket/rag-doc-1/Steel Business Briefing_04 Jul 2024.pdf\n",
      "    Content: Some market sources expect more central government- backed large-scale infrastructure projects to be announced in the  coming months which, combined with relatively low construction  steel output and ...\n",
      "  Reference:\n",
      "    URI: s3://240605-jesamkim-test-bucket/rag-doc-1/Steel Business Briefing_04 Jul 2024.pdf\n",
      "    Content: Over January-June, the value of new home sales by 100 major  developers fell by 39.5% on the year to Yuan 1.852 trillion.   Some market sources said the reduction of housing down  payment ratios and l...\n",
      "\n"
     ]
    }
   ],
   "source": [
    "# 인용 정보 출력 (있는 경우)\n",
    "citations = response.get('citations', [])\n",
    "if citations:\n",
    "    print(\"\\nCitations:\\n\")\n",
    "    for citation in citations:\n",
    "        generated_response_part = citation.get('generatedResponsePart', {})\n",
    "        text_response_part = generated_response_part.get('textResponsePart', {})\n",
    "        span = text_response_part.get('span', {})\n",
    "        start = span.get('start', 'N/A')\n",
    "        end = span.get('end', 'N/A')\n",
    "        text = text_response_part.get('text', 'N/A')\n",
    "\n",
    "        #print(f\"- Span: {start}-{end}\")\n",
    "        #print(f\"  Text: {text}\")\n",
    "\n",
    "        retrieved_references = citation.get('retrievedReferences', [])\n",
    "        for ref in retrieved_references:\n",
    "            content = ref.get('content', {})\n",
    "            text = content.get('text', 'N/A')\n",
    "            location = ref.get('location', {})\n",
    "            s3_location = location.get('s3Location', {})\n",
    "            uri = s3_location.get('uri', 'N/A')\n",
    "\n",
    "            print(f\"  Reference:\")\n",
    "            print(f\"    URI: {uri}\")\n",
    "            print(f\"    Content: {text[:200]}...\")  # 처음 200자만 출력\n",
    "        print()  # 각 citation 사이에 빈 줄 추가"
   ]
  },
  {
   "cell_type": "code",
   "execution_count": null,
   "id": "7cd54c6e-2dbd-495b-9c0a-a0529f3a8559",
   "metadata": {},
   "outputs": [],
   "source": []
  },
  {
   "cell_type": "code",
   "execution_count": null,
   "id": "39467525-b949-47db-8cd1-9a4f38f76bb3",
   "metadata": {},
   "outputs": [],
   "source": []
  }
 ],
 "metadata": {
  "kernelspec": {
   "display_name": "Python 3 (ipykernel)",
   "language": "python",
   "name": "python3"
  },
  "language_info": {
   "codemirror_mode": {
    "name": "ipython",
    "version": 3
   },
   "file_extension": ".py",
   "mimetype": "text/x-python",
   "name": "python",
   "nbconvert_exporter": "python",
   "pygments_lexer": "ipython3",
   "version": "3.10.14"
  }
 },
 "nbformat": 4,
 "nbformat_minor": 5
}
