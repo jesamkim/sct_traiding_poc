{
 "cells": [
  {
   "cell_type": "markdown",
   "id": "33d61b8b-4290-44f3-91f2-1df91b1a17a9",
   "metadata": {},
   "source": [
    "# 단일 PDF 파일 챗봇 샘플 코드\n",
    "\n",
    "#### Amazon Bedrock의 Knowledge Base 기능 (Chat with your document) 활용\n",
    "- 이 기능은 현재 Claude 3 Sonnet 과 Claude 3 Haiku 만 지원하고 있습니다.\n",
    "- 업로드 되는 문서는 10MB 이내여야 합니다."
   ]
  },
  {
   "cell_type": "code",
   "execution_count": 1,
   "id": "a992c99e-ec11-45c8-ae03-3be18779b733",
   "metadata": {},
   "outputs": [
    {
     "name": "stdout",
     "output_type": "stream",
     "text": [
      "Requirement already satisfied: boto3 in /opt/conda/lib/python3.10/site-packages (1.34.144)\n",
      "Requirement already satisfied: botocore<1.35.0,>=1.34.144 in /opt/conda/lib/python3.10/site-packages (from boto3) (1.34.144)\n",
      "Requirement already satisfied: jmespath<2.0.0,>=0.7.1 in /opt/conda/lib/python3.10/site-packages (from boto3) (1.0.1)\n",
      "Requirement already satisfied: s3transfer<0.11.0,>=0.10.0 in /opt/conda/lib/python3.10/site-packages (from boto3) (0.10.2)\n",
      "Requirement already satisfied: python-dateutil<3.0.0,>=2.1 in /opt/conda/lib/python3.10/site-packages (from botocore<1.35.0,>=1.34.144->boto3) (2.9.0)\n",
      "Requirement already satisfied: urllib3!=2.2.0,<3,>=1.25.4 in /opt/conda/lib/python3.10/site-packages (from botocore<1.35.0,>=1.34.144->boto3) (1.26.19)\n",
      "Requirement already satisfied: six>=1.5 in /opt/conda/lib/python3.10/site-packages (from python-dateutil<3.0.0,>=2.1->botocore<1.35.0,>=1.34.144->boto3) (1.16.0)\n"
     ]
    }
   ],
   "source": [
    "!pip install boto3 -U"
   ]
  },
  {
   "cell_type": "code",
   "execution_count": 2,
   "id": "626d4070-ad47-40b1-bbda-a89b1682b481",
   "metadata": {},
   "outputs": [],
   "source": [
    "import boto3\n",
    "import json\n",
    "import time\n",
    "import base64\n",
    "\n",
    "# Bedrock 클라이언트 생성\n",
    "bedrock_client = boto3.client('bedrock-agent-runtime')\n"
   ]
  },
  {
   "cell_type": "code",
   "execution_count": 3,
   "id": "a43df689-a83f-429b-8e9e-eb9169cb41c9",
   "metadata": {},
   "outputs": [],
   "source": [
    "# 문서 파일 경로 \n",
    "\n",
    "file_name = \"Steel Business Briefing_04 Jul 2024.pdf\"\n",
    "\n",
    "#document_uri = f\"s3://240605-jesamkim-test-bucket/rag-doc-1/{file_name}\"  # S3에 PDF를 업로드 한 경우\n",
    "file_path = f\"./rag_data/{file_name}\"                                     # Local PDF 업로드 인 경우"
   ]
  },
  {
   "cell_type": "code",
   "execution_count": 4,
   "id": "cf338d37-91c6-4870-ae8b-29e983ec677d",
   "metadata": {},
   "outputs": [],
   "source": [
    "with open(file_path, 'rb') as file:\n",
    "    pdf_content = file.read()\n",
    "    pdf_base64 = base64.b64encode(pdf_content).decode('utf-8')\n",
    "\n",
    "local_sources = [{\n",
    "    \"sourceType\": \"BYTE_CONTENT\",\n",
    "    \"byteContent\": {\n",
    "        \"contentType\": \"application/pdf\",\n",
    "        \"data\": pdf_base64,\n",
    "        \"identifier\": file_name\n",
    "    }\n",
    "}]"
   ]
  },
  {
   "cell_type": "code",
   "execution_count": 5,
   "id": "4440f4fc-bde6-46d2-b6f2-78d25b63eee1",
   "metadata": {},
   "outputs": [],
   "source": [
    "# 사용자 쿼리\n",
    "\n",
    "user_query = \"\"\"\n",
    "철강 산업 동향에 대해 자세히 알려주세요.\n",
    "\"\"\""
   ]
  },
  {
   "cell_type": "code",
   "execution_count": 8,
   "id": "89ca22da-4dca-47d4-b4b8-0763dc8f28a9",
   "metadata": {},
   "outputs": [
    {
     "name": "stdout",
     "output_type": "stream",
     "text": [
      "Generated response: \n",
      " 최근 철강 산업은 코로나19 팬데믹 이후 경기 회복에 따른 수요 증가와 러시아-우크라이나 전쟁으로 인한 공급 차질 등으로 가격이 큰 폭으로 상승했습니다. 그러나 2022년 하반기부터 경기 둔화 우려와 중국의 제로 코로나 정책 등으로 수요가 감소하면서 철강 가격이 하락세를 보이고 있습니다. 국내 철강업체들은 최근 수출 부진과 내수 경기 둔화로 어려움을 겪고 있습니다. 이에 따라 설비 가동률을 낮추고 비용 절감에 나서는 등 경영 효율화에 주력하고 있습니다. 장기적으로는 친환경 제품 개발과 디지털 전환 등 미래 성장 동력 확보에 힘쓰고 있습니다.\n",
      "CPU times: user 6.82 ms, sys: 518 μs, total: 7.33 ms\n",
      "Wall time: 9.6 s\n"
     ]
    }
   ],
   "source": [
    "%%time\n",
    "\n",
    "def retrieveAndGenerate(input_text, sourceType, document_s3_uri=None, data=None, local_sources=None):\n",
    "    model_arn = \"arn:aws:bedrock:us-east-1::foundation-model/anthropic.claude-3-sonnet-20240229-v1:0\" # 현재 KB에서는 Claude 3 Sonnet 까지만 지원됩니다.\n",
    "\n",
    "    if sourceType == \"S3\":\n",
    "        return bedrock_client.retrieve_and_generate(\n",
    "            input={'text': input_text},\n",
    "            retrieveAndGenerateConfiguration={\n",
    "                'type': 'EXTERNAL_SOURCES',\n",
    "                'externalSourcesConfiguration': {\n",
    "                    'modelArn': model_arn,\n",
    "                    'sources': [\n",
    "                        {\n",
    "                            \"sourceType\": sourceType,\n",
    "                            \"s3Location\": {\n",
    "                                \"uri\": document_s3_uri  \n",
    "                            }\n",
    "                        }\n",
    "                    ],\n",
    "                    'generationConfiguration': {\n",
    "                        'promptTemplate': {\n",
    "                            # 시스템 프롬프트 부분\n",
    "                            'textPromptTemplate': 'You are a chatbot that can explain the key points for domain experts. Answer in Korean.'\n",
    "                        },\n",
    "                        'inferenceConfig': {\n",
    "                            'textInferenceConfig': {\n",
    "                                'maxTokens': 4096,\n",
    "                                'temperature': 0.0,\n",
    "                                'topP': 0.9,\n",
    "                                'stopSequences': ['\\n\\nHuman:']\n",
    "                            }\n",
    "                        }\n",
    "                    }\n",
    "                }\n",
    "            }\n",
    "        )\n",
    "        \n",
    "    else:\n",
    "        return bedrock_client.retrieve_and_generate(\n",
    "            input={'text': input_text},\n",
    "            retrieveAndGenerateConfiguration={\n",
    "                'type': 'EXTERNAL_SOURCES',\n",
    "                'externalSourcesConfiguration': {\n",
    "                    'modelArn': model_arn,\n",
    "                    'sources': local_sources\n",
    "                }\n",
    "            }\n",
    "        )\n",
    "\n",
    "response = retrieveAndGenerate(\n",
    "    input_text=user_query,\n",
    "    #sourceType=\"S3\",              # S3에 PDF를 업로드 한 경우\n",
    "    sourceType=\"BYTE_CONTENT\",     # Local PDF 업로드 인 경우\n",
    "    #document_s3_uri=document_uri  # S3에 PDF를 업로드 한 경우\n",
    "    local_sources=local_sources    # Local PDF 업로드 인 경우\n",
    "    )\n",
    "\n",
    "\n",
    "# 응답 처리\n",
    "output = response.get('output', {})\n",
    "generated_text = output.get('text', '')\n",
    "print(\"Generated response: \\n\", generated_text)\n",
    "\n"
   ]
  },
  {
   "cell_type": "code",
   "execution_count": 9,
   "id": "6e419875-9211-4d77-bcad-2ec53a3a2bfa",
   "metadata": {},
   "outputs": [
    {
     "name": "stdout",
     "output_type": "stream",
     "text": [
      "\n",
      "Citations:\n",
      "\n",
      "  Text: 최근 철강 산업은 코로나19 팬데믹 이후 경기 회복에 따른 수요 증가와 러시아-우크라이나 전쟁으로 인한 공급 차질 등으로 가격이 큰 폭으로 상승했습니다. 그러나 2022년 하반기부터 경기 둔화 우려와 중국의 제로 코로나 정책 등으로 수요가 감소하면서 철강 가격이 하락세를 보이고 있습니다.\n",
      "\n",
      "  Text: 국내 철강업체들은 최근 수출 부진과 내수 경기 둔화로 어려움을 겪고 있습니다. 이에 따라 설비 가동률을 낮추고 비용 절감에 나서는 등 경영 효율화에 주력하고 있습니다. 장기적으로는 친환경 제품 개발과 디지털 전환 등 미래 성장 동력 확보에 힘쓰고 있습니다.\n",
      "\n"
     ]
    }
   ],
   "source": [
    "# 인용 정보 출력 (있는 경우)\n",
    "citations = response.get('citations', [])\n",
    "if citations:\n",
    "    print(\"\\nCitations:\\n\")\n",
    "    for citation in citations:\n",
    "        generated_response_part = citation.get('generatedResponsePart', {})\n",
    "        text_response_part = generated_response_part.get('textResponsePart', {})\n",
    "        span = text_response_part.get('span', {})\n",
    "        start = span.get('start', 'N/A')\n",
    "        end = span.get('end', 'N/A')\n",
    "        text = text_response_part.get('text', 'N/A')\n",
    "\n",
    "        #print(f\"- Span: {start}-{end}\")\n",
    "        print(f\"  Text: {text}\")\n",
    "\n",
    "        retrieved_references = citation.get('retrievedReferences', [])\n",
    "        for ref in retrieved_references:\n",
    "            content = ref.get('content', {})\n",
    "            text = content.get('text', 'N/A')\n",
    "            location = ref.get('location', {})\n",
    "            s3_location = location.get('s3Location', {})\n",
    "            uri = s3_location.get('uri', 'N/A')\n",
    "\n",
    "            print(f\"  Reference:\")\n",
    "            print(f\"    URI: {uri}\")\n",
    "            print(f\"    Content: {text[:100]}...\")  # 처음 100자만 출력\n",
    "        print()  # 각 citation 사이에 빈 줄 추가"
   ]
  },
  {
   "cell_type": "code",
   "execution_count": null,
   "id": "7cd54c6e-2dbd-495b-9c0a-a0529f3a8559",
   "metadata": {},
   "outputs": [],
   "source": []
  },
  {
   "cell_type": "code",
   "execution_count": null,
   "id": "39467525-b949-47db-8cd1-9a4f38f76bb3",
   "metadata": {},
   "outputs": [],
   "source": []
  }
 ],
 "metadata": {
  "kernelspec": {
   "display_name": "Python 3 (ipykernel)",
   "language": "python",
   "name": "python3"
  },
  "language_info": {
   "codemirror_mode": {
    "name": "ipython",
    "version": 3
   },
   "file_extension": ".py",
   "mimetype": "text/x-python",
   "name": "python",
   "nbconvert_exporter": "python",
   "pygments_lexer": "ipython3",
   "version": "3.10.14"
  }
 },
 "nbformat": 4,
 "nbformat_minor": 5
}
