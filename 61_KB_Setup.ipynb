{
 "cells": [
  {
   "cell_type": "markdown",
   "id": "6d098362-e23d-49b1-b541-0dcf953eb57c",
   "metadata": {},
   "source": [
    "# Step 1. KB(Knowledge Base) 구성\n",
    "## => Knowledge Base for Amazon Bedrock 을 활용한 RAG "
   ]
  },
  {
   "cell_type": "code",
   "execution_count": null,
   "id": "01294f53-63ee-4a23-843e-4a88c47f07ea",
   "metadata": {
    "tags": []
   },
   "outputs": [],
   "source": [
    "# boto3 최신 버전으로 업데이트\n",
    "!pip install boto3 -U"
   ]
  },
  {
   "cell_type": "markdown",
   "id": "30538527-2c79-4095-be1a-2bdb41c4d6da",
   "metadata": {},
   "source": [
    "### S3 에 문서 업로드\n",
    "- S3 버킷은 미리 셍성해 놓아야 합니다.\n",
    "- local_directory 에 있는 모든 디렉토리 및 파일 이름에 특수기호는 제거되어야 합니다. (전처리)\n",
    "- local_directory 에 있는 하위디렉토리를 모두 탐색해서 업로드 합니다."
   ]
  },
  {
   "cell_type": "markdown",
   "id": "2f77e2a2-0d10-4780-98d9-18163a3135e7",
   "metadata": {},
   "source": [
    "#### 문서를 S3에 업로드"
   ]
  },
  {
   "cell_type": "code",
   "execution_count": null,
   "id": "b25844cc-6472-4321-9b55-57ffd02d74b0",
   "metadata": {
    "tags": []
   },
   "outputs": [],
   "source": [
    "import os\n",
    "import boto3\n",
    "\n",
    "def upload_directory_to_s3(local_directory, bucket_name, s3_prefix=''):\n",
    "    s3 = boto3.client('s3')\n",
    "\n",
    "    for root, dirs, files in os.walk(local_directory):\n",
    "        for filename in files:\n",
    "            local_path = os.path.join(root, filename)\n",
    "\n",
    "            # S3 키 생성 (상대 경로 유지)\n",
    "            relative_path = os.path.relpath(local_path, local_directory)\n",
    "            s3_key = os.path.join(s3_prefix, relative_path).replace(\"\\\\\", \"/\")\n",
    "\n",
    "            print(f\"Uploading {local_path} to {bucket_name}/{s3_key}\")\n",
    "            s3.upload_file(local_path, bucket_name, s3_key)\n",
    "\n",
    "            \n",
    "# 아래 내용을 환경에 맞게 수정하세요.\n",
    "local_directory = './rag_data/' # SageMaker에 저장된 로컬 경로 (문서 경로에 맞게 수정 합니다)\n",
    "bucket_name = '240719-jesamkim-bucket'# S3 버킷 이름\n",
    "s3_prefix = 'Trading_reports'  # S3 내의 기본 경로 \n",
    "\n",
    "upload_directory_to_s3(local_directory, bucket_name, s3_prefix)"
   ]
  },
  {
   "cell_type": "markdown",
   "id": "02b11bfa-8475-4446-b4ef-46deb3f66ea1",
   "metadata": {},
   "source": [
    "### KB(Knowledge Base) for Amazon Bedrock 설정"
   ]
  },
  {
   "cell_type": "markdown",
   "id": "0e2f2629-378f-425c-9128-8350319a7285",
   "metadata": {},
   "source": [
    "아래 문서의 순서에 따라 Bedrock 콘솔 화면에서 KB를 설정 합니다.\n",
    "\n",
    "SageMaker 노트북 환경에서 PDF 보기가 잘 안되시면 문서를 다운로드 받아서 Open 하시기 바랍니다.\n",
    "\n",
    "[KB 설정 가이드 문서](./img/240719-KB_setup_guide.pdf)"
   ]
  },
  {
   "cell_type": "code",
   "execution_count": null,
   "id": "683aeb61-e138-4de5-a2a4-fa1f69216d83",
   "metadata": {},
   "outputs": [],
   "source": []
  }
 ],
 "metadata": {
  "kernelspec": {
   "display_name": "Python 3 (ipykernel)",
   "language": "python",
   "name": "python3"
  },
  "language_info": {
   "codemirror_mode": {
    "name": "ipython",
    "version": 3
   },
   "file_extension": ".py",
   "mimetype": "text/x-python",
   "name": "python",
   "nbconvert_exporter": "python",
   "pygments_lexer": "ipython3",
   "version": "3.10.14"
  }
 },
 "nbformat": 4,
 "nbformat_minor": 5
}
