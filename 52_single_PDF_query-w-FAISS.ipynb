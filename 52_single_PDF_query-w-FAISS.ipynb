{
 "cells": [
  {
   "cell_type": "markdown",
   "id": "33d61b8b-4290-44f3-91f2-1df91b1a17a9",
   "metadata": {},
   "source": [
    "# 단일 PDF 파일 챗봇 샘플 코드\n",
    "\n",
    "### FAISS 활용\n"
   ]
  },
  {
   "cell_type": "markdown",
   "id": "5f7b8254-52c0-4624-86b1-d72b1a1be434",
   "metadata": {},
   "source": [
    "### 환경설정"
   ]
  },
  {
   "cell_type": "code",
   "execution_count": null,
   "id": "d160ad7b-db0c-4b94-9266-200881b2e728",
   "metadata": {},
   "outputs": [],
   "source": [
    "# 패키지 설치 후 커널 리스타트 해주세요.\n",
    "\n",
    "!pip install boto3 langchain langchain_aws langchain_community -U"
   ]
  },
  {
   "cell_type": "code",
   "execution_count": 4,
   "id": "37435e0f-98f7-4cae-9c22-c012a5aebe53",
   "metadata": {},
   "outputs": [],
   "source": [
    "import os\n",
    "import boto3\n",
    "import time\n",
    "from langchain_community.document_loaders import PyPDFLoader\n",
    "from langchain.text_splitter import RecursiveCharacterTextSplitter\n",
    "from langchain_community.embeddings import BedrockEmbeddings\n",
    "from langchain_community.vectorstores import FAISS\n",
    "from langchain.chains import RetrievalQA\n",
    "from langchain_aws import ChatBedrock\n",
    "\n",
    "# Bedrock 클라이언트 설정\n",
    "bedrock_runtime = boto3.client(\n",
    "    service_name=\"bedrock-runtime\",\n",
    "    region_name=\"us-east-1\"  # 사용하는 리전으로 변경하세요\n",
    ")\n"
   ]
  },
  {
   "cell_type": "code",
   "execution_count": 9,
   "id": "5e5c0072-caef-4e56-9555-4cae5dd404d9",
   "metadata": {},
   "outputs": [
    {
     "name": "stdout",
     "output_type": "stream",
     "text": [
      "CPU times: user 1.61 s, sys: 0 ns, total: 1.61 s\n",
      "Wall time: 17.9 s\n"
     ]
    }
   ],
   "source": [
    "%%time\n",
    "\n",
    "# PDF 로드 및 텍스트 분할\n",
    "loader = PyPDFLoader(\"./rag_data/Steel Business Briefing_15 Jul 2024.pdf\")\n",
    "documents = loader.load()\n",
    "text_splitter = RecursiveCharacterTextSplitter(chunk_size=1000, chunk_overlap=100)\n",
    "texts = text_splitter.split_documents(documents)\n",
    "\n",
    "# Bedrock 임베딩 설정\n",
    "embeddings = BedrockEmbeddings(\n",
    "    client=bedrock_runtime,\n",
    "    model_id=\"amazon.titan-embed-text-v1\" # Titan Embeddings V1\n",
    ")\n",
    "\n",
    "# FAISS 벡터 저장소 생성\n",
    "vectorstore = FAISS.from_documents(texts, embeddings)\n",
    "\n",
    "# Claude 3 Sonnet LLM 설정\n",
    "llm = ChatBedrock(\n",
    "    client=bedrock_runtime,\n",
    "    model_id=\"anthropic.claude-3-sonnet-20240229-v1:0\",\n",
    "    model_kwargs={\n",
    "        \"max_tokens\": 4096, \n",
    "        \"temperature\": 0.5\n",
    "    },\n",
    "    \n",
    ")\n",
    "\n",
    "# RetrievalQA 체인 생성\n",
    "qa_chain = RetrievalQA.from_chain_type(\n",
    "    llm=llm,\n",
    "    chain_type=\"stuff\",\n",
    "    verbose = True,\n",
    "    retriever=vectorstore.as_retriever()\n",
    ")\n",
    "\n",
    "# 쿼리 실행 함수\n",
    "def query_pdf(question):\n",
    "    response = qa_chain.run(question)\n",
    "    return response\n"
   ]
  },
  {
   "cell_type": "code",
   "execution_count": 10,
   "id": "b58f1a0a-2576-431f-809d-3b29df37039d",
   "metadata": {},
   "outputs": [
    {
     "name": "stdout",
     "output_type": "stream",
     "text": [
      "\n",
      "\n",
      "\u001b[1m> Entering new RetrievalQA chain...\u001b[0m\n",
      "\n",
      "\u001b[1m> Finished chain.\u001b[0m\n",
      "질문: \n",
      "PDF 문서의 주요 내용은 무엇인가요?\n",
      "\n",
      "답변: 이 PDF 문서는 S&P 글로벌 커모디티 인사이트(S&P Global Commodity Insights)의 2024년 7월 15일자 일일 브리핑 보고서인 것 같습니다. 주요 내용은 다음과 같습니다:\n",
      "\n",
      "- 아시아 열연코일 가격이 중국 공산당 3중 전회에 대한 기대감으로 상승세를 보임\n",
      "\n",
      "- 클리브랜드 클리프스의 U.S. 스틸 인수 제안이 거부되고 대신 일본 신일본제철이 140억 달러에 U.S. 스틸을 인수하기로 함\n",
      "\n",
      "- 남아프리카 대통령이 EU의 탄소국경조정메커니즘(CBAM)으로 인해 탄소 집약적 산업에 경제적 위험이 있음을 지적\n",
      "\n",
      "- 유럽 열연코일 가격 평가 및 근거 설명\n",
      "\n",
      "- 유럽 탄소가격을 반영한 열연코일 가격 평가 및 근거 설명\n",
      "\n",
      "요약하면 철강 제품 가격 동향, 주요 기업 인수합병 소식, 탄소세 정책 영향 등 철강/원자재 산업 전반의 뉴스와 가격 정보를 담고 있습니다.\n",
      "\n",
      "CPU times: user 13.8 ms, sys: 0 ns, total: 13.8 ms\n",
      "Wall time: 8.53 s\n"
     ]
    }
   ],
   "source": [
    "%%time\n",
    "\n",
    "# 사용자 쿼리\n",
    "question = \"\"\"\n",
    "PDF 문서의 주요 내용은 무엇인가요?\n",
    "\"\"\"\n",
    "\n",
    "answer = query_pdf(question)\n",
    "print(f\"질문: {question}\")\n",
    "print(f\"답변: {answer}\")\n",
    "print()"
   ]
  },
  {
   "cell_type": "code",
   "execution_count": null,
   "id": "94809e13-dcc3-4895-8e4d-69dabc368d67",
   "metadata": {},
   "outputs": [],
   "source": []
  },
  {
   "cell_type": "code",
   "execution_count": null,
   "id": "671c1621-ed2d-41e3-94cf-15ea8377a82d",
   "metadata": {},
   "outputs": [],
   "source": []
  }
 ],
 "metadata": {
  "kernelspec": {
   "display_name": "Python 3 (ipykernel)",
   "language": "python",
   "name": "python3"
  },
  "language_info": {
   "codemirror_mode": {
    "name": "ipython",
    "version": 3
   },
   "file_extension": ".py",
   "mimetype": "text/x-python",
   "name": "python",
   "nbconvert_exporter": "python",
   "pygments_lexer": "ipython3",
   "version": "3.10.14"
  }
 },
 "nbformat": 4,
 "nbformat_minor": 5
}
