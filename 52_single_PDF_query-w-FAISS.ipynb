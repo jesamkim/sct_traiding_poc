{
 "cells": [
  {
   "cell_type": "markdown",
   "id": "33d61b8b-4290-44f3-91f2-1df91b1a17a9",
   "metadata": {},
   "source": [
    "# 단일 PDF 파일 챗봇 샘플 코드\n",
    "\n",
    "### FAISS 활용\n"
   ]
  },
  {
   "cell_type": "markdown",
   "id": "5f7b8254-52c0-4624-86b1-d72b1a1be434",
   "metadata": {},
   "source": [
    "### 환경설정"
   ]
  },
  {
   "cell_type": "code",
   "execution_count": null,
   "id": "d160ad7b-db0c-4b94-9266-200881b2e728",
   "metadata": {},
   "outputs": [],
   "source": [
    "# 패키지 설치 후 커널 리스타트 해주세요.\n",
    "\n",
    "!pip install boto3 langchain langchain_aws langchain_community -U"
   ]
  },
  {
   "cell_type": "code",
   "execution_count": 1,
   "id": "37435e0f-98f7-4cae-9c22-c012a5aebe53",
   "metadata": {},
   "outputs": [],
   "source": [
    "import os\n",
    "import boto3\n",
    "import time\n",
    "from langchain_community.document_loaders import PyPDFLoader\n",
    "from langchain.text_splitter import RecursiveCharacterTextSplitter\n",
    "from langchain_community.embeddings import BedrockEmbeddings\n",
    "from langchain_community.vectorstores import FAISS\n",
    "from langchain.chains import RetrievalQA\n",
    "from langchain_aws import ChatBedrock\n",
    "\n",
    "# Bedrock 클라이언트 설정\n",
    "bedrock_runtime = boto3.client(\n",
    "    service_name=\"bedrock-runtime\",\n",
    "    region_name=\"us-east-1\"  # 사용하는 리전으로 변경하세요\n",
    ")\n"
   ]
  },
  {
   "cell_type": "code",
   "execution_count": 2,
   "id": "5e5c0072-caef-4e56-9555-4cae5dd404d9",
   "metadata": {},
   "outputs": [
    {
     "name": "stdout",
     "output_type": "stream",
     "text": [
      "CPU times: user 1.65 s, sys: 517 ms, total: 2.17 s\n",
      "Wall time: 17.9 s\n"
     ]
    }
   ],
   "source": [
    "%%time\n",
    "\n",
    "# PDF 로드 및 텍스트 분할\n",
    "loader = PyPDFLoader(\"./rag_data/Steel Business Briefing_15 Jul 2024.pdf\")\n",
    "documents = loader.load()\n",
    "text_splitter = RecursiveCharacterTextSplitter(chunk_size=1000, chunk_overlap=100)\n",
    "texts = text_splitter.split_documents(documents)\n",
    "\n",
    "# Bedrock 임베딩 설정\n",
    "embeddings = BedrockEmbeddings(\n",
    "    client=bedrock_runtime,\n",
    "    model_id=\"amazon.titan-embed-text-v1\" # Titan Embeddings V1\n",
    ")\n",
    "\n",
    "# FAISS 벡터 저장소 생성\n",
    "vectorstore = FAISS.from_documents(texts, embeddings)\n",
    "\n",
    "# Claude 3 Sonnet LLM 설정\n",
    "llm = ChatBedrock(\n",
    "    client=bedrock_runtime,\n",
    "    model_id=\"anthropic.claude-3-sonnet-20240229-v1:0\",\n",
    "    model_kwargs={\n",
    "        \"max_tokens\": 4096, \n",
    "        \"temperature\": 0.5\n",
    "    }\n",
    ")\n",
    "\n",
    "# RetrievalQA 체인 생성\n",
    "qa_chain = RetrievalQA.from_chain_type(\n",
    "    llm=llm,\n",
    "    chain_type=\"stuff\",\n",
    "    retriever=vectorstore.as_retriever()\n",
    ")\n",
    "\n",
    "# 쿼리 실행 함수\n",
    "def query_pdf(question):\n",
    "    response = qa_chain.run(question)\n",
    "    return response\n"
   ]
  },
  {
   "cell_type": "code",
   "execution_count": 3,
   "id": "b58f1a0a-2576-431f-809d-3b29df37039d",
   "metadata": {},
   "outputs": [
    {
     "name": "stderr",
     "output_type": "stream",
     "text": [
      "/opt/conda/lib/python3.10/site-packages/langchain_core/_api/deprecation.py:139: LangChainDeprecationWarning: The method `Chain.run` was deprecated in langchain 0.1.0 and will be removed in 0.3.0. Use invoke instead.\n",
      "  warn_deprecated(\n"
     ]
    },
    {
     "name": "stdout",
     "output_type": "stream",
     "text": [
      "질문: \n",
      "PDF 문서의 주요 내용은 무엇인가요?\n",
      "\n",
      "답변: 이 PDF 문서는 S&P Global Commodity Insights가 제공하는 2024년 7월 15일자 철강 관련 일일 브리핑 보고서인 것 같습니다. 주요 내용은 다음과 같습니다:\n",
      "\n",
      "- 중국 정부의 정책 기대감으로 중국 열연코일 가격이 상승했다는 내용이 있습니다.\n",
      "\n",
      "- 클리브랜드-클리프스 철강회사가 U.S. 스틸을 인수하려 했지만, 결국 일본 니폰제철에 인수되었다는 내용이 있습니다. \n",
      "\n",
      "- 남아프리카 대통령이 EU의 탄소국경조정메커니즘(CBAM) 대비를 위해 산업계의 탄소집약도를 낮출 필요가 있다고 언급한 내용이 있습니다.\n",
      "\n",
      "- 유럽 열연코일 가격 평가 근거와 관련 데이터 코드도 포함되어 있습니다.\n",
      "\n",
      "- 마지막에는 S&P 데이터 사용과 관련된 주의사항이 적혀 있습니다.\n",
      "\n",
      "전반적으로 해당일의 글로벌 철강 가격 동향과 주요 이슈 등을 다루고 있는 산업 전문 브리핑 보고서인 것 같습니다.\n",
      "\n",
      "CPU times: user 26.1 ms, sys: 1.42 ms, total: 27.5 ms\n",
      "Wall time: 10.4 s\n"
     ]
    }
   ],
   "source": [
    "%%time\n",
    "\n",
    "# 사용자 쿼리\n",
    "question = \"\"\"\n",
    "PDF 문서의 주요 내용은 무엇인가요?\n",
    "\"\"\"\n",
    "\n",
    "answer = query_pdf(question)\n",
    "print(f\"질문: {question}\")\n",
    "print(f\"답변: {answer}\")\n",
    "print()"
   ]
  },
  {
   "cell_type": "code",
   "execution_count": null,
   "id": "94809e13-dcc3-4895-8e4d-69dabc368d67",
   "metadata": {},
   "outputs": [],
   "source": []
  }
 ],
 "metadata": {
  "kernelspec": {
   "display_name": "Python 3 (ipykernel)",
   "language": "python",
   "name": "python3"
  },
  "language_info": {
   "codemirror_mode": {
    "name": "ipython",
    "version": 3
   },
   "file_extension": ".py",
   "mimetype": "text/x-python",
   "name": "python",
   "nbconvert_exporter": "python",
   "pygments_lexer": "ipython3",
   "version": "3.10.14"
  }
 },
 "nbformat": 4,
 "nbformat_minor": 5
}
